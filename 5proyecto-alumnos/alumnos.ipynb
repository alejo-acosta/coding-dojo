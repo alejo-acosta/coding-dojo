{
 "cells": [
  {
   "cell_type": "markdown",
   "metadata": {},
   "source": [
    "# **Codig Dojo**: Proyecto 2, predicción de probabilidad de matriculación.\n",
    "## Creado por: Alejandro Acosta\n",
    "\n",
    "- Fecha de creación: 2022-02-22\n",
    "- Fecha de modificación: 2022-03-02\n",
    "- Descripción: En base a ciertas características de postulantes a una universidad privada de Ecuador, se estima la probabilidad de matriculación de un estudiante universitario de pregrado y cuáles son los factores más importantes que influyen en dicha matriculación."
   ]
  },
  {
   "cell_type": "code",
   "execution_count": 1,
   "metadata": {},
   "outputs": [],
   "source": [
    "import pandas as pd\n",
    "import numpy as np\n",
    "import matplotlib.pyplot as plt\n",
    "import seaborn as sns\n",
    "from linearmodels import OLS\n",
    "\n",
    "from sklearn.metrics import mean_squared_error\n",
    "from sklearn.ensemble import RandomForestRegressor\n",
    "from sklearn.model_selection import train_test_split\n",
    "from sklearn.neighbors import KNeighborsRegressor\n",
    "from sklearn.model_selection import GridSearchCV\n",
    "\n",
    "sns.set()\n",
    "plt.rcParams['figure.dpi'] = 100"
   ]
  },
  {
   "cell_type": "markdown",
   "metadata": {},
   "source": [
    "## Importación y limpieza de datos"
   ]
  },
  {
   "cell_type": "code",
   "execution_count": 2,
   "metadata": {},
   "outputs": [
    {
     "data": {
      "text/html": [
       "<div>\n",
       "<style scoped>\n",
       "    .dataframe tbody tr th:only-of-type {\n",
       "        vertical-align: middle;\n",
       "    }\n",
       "\n",
       "    .dataframe tbody tr th {\n",
       "        vertical-align: top;\n",
       "    }\n",
       "\n",
       "    .dataframe thead th {\n",
       "        text-align: right;\n",
       "    }\n",
       "</style>\n",
       "<table border=\"1\" class=\"dataframe\">\n",
       "  <thead>\n",
       "    <tr style=\"text-align: right;\">\n",
       "      <th></th>\n",
       "      <th>id_oportunidad</th>\n",
       "      <th>id_estudiante</th>\n",
       "      <th>programa</th>\n",
       "      <th>etapa</th>\n",
       "      <th>fecha_afluencia</th>\n",
       "      <th>fecha_ganado</th>\n",
       "      <th>fecha_perdido</th>\n",
       "      <th>consultor</th>\n",
       "      <th>edad</th>\n",
       "      <th>estado_civil</th>\n",
       "      <th>ciudad</th>\n",
       "      <th>provincia</th>\n",
       "      <th>trabaja</th>\n",
       "      <th>colegio</th>\n",
       "      <th>tipo_admision</th>\n",
       "      <th>origen</th>\n",
       "      <th>enteraste</th>\n",
       "    </tr>\n",
       "  </thead>\n",
       "  <tbody>\n",
       "    <tr>\n",
       "      <th>0</th>\n",
       "      <td>0068W00000RtT5E</td>\n",
       "      <td>-7959495189833833808</td>\n",
       "      <td>1P714</td>\n",
       "      <td>Cerrada Perdida</td>\n",
       "      <td>2022-01-20 00:00:00</td>\n",
       "      <td>NaN</td>\n",
       "      <td>2022-02-11 00:00:00</td>\n",
       "      <td>36</td>\n",
       "      <td>25.0</td>\n",
       "      <td>Casado/a</td>\n",
       "      <td>QUITO</td>\n",
       "      <td>PICHINCHA</td>\n",
       "      <td>Si</td>\n",
       "      <td>1978</td>\n",
       "      <td>Normal</td>\n",
       "      <td>Whatsapp</td>\n",
       "      <td>Recomendado</td>\n",
       "    </tr>\n",
       "    <tr>\n",
       "      <th>1</th>\n",
       "      <td>0068W00000RulbV</td>\n",
       "      <td>8433271449132097132</td>\n",
       "      <td>1P734</td>\n",
       "      <td>Cerrada Perdida</td>\n",
       "      <td>2022-02-02 00:00:00</td>\n",
       "      <td>NaN</td>\n",
       "      <td>2022-02-02 00:00:00</td>\n",
       "      <td>8</td>\n",
       "      <td>21.0</td>\n",
       "      <td>NaN</td>\n",
       "      <td>QUITO</td>\n",
       "      <td>PICHINCHA</td>\n",
       "      <td>NaN</td>\n",
       "      <td>1002</td>\n",
       "      <td>Normal</td>\n",
       "      <td>Simulador Homologación</td>\n",
       "      <td>NaN</td>\n",
       "    </tr>\n",
       "    <tr>\n",
       "      <th>2</th>\n",
       "      <td>0061U00000NB058</td>\n",
       "      <td>681923597971309571</td>\n",
       "      <td>1P614</td>\n",
       "      <td>Cerrada Perdida</td>\n",
       "      <td>2021-07-22 00:00:00</td>\n",
       "      <td>NaN</td>\n",
       "      <td>2021-07-28 00:00:00</td>\n",
       "      <td>15</td>\n",
       "      <td>19.0</td>\n",
       "      <td>NaN</td>\n",
       "      <td>QUITO</td>\n",
       "      <td>PICHINCHA</td>\n",
       "      <td>No</td>\n",
       "      <td>18</td>\n",
       "      <td>Normal</td>\n",
       "      <td>Colegios</td>\n",
       "      <td>Mi colegio</td>\n",
       "    </tr>\n",
       "    <tr>\n",
       "      <th>3</th>\n",
       "      <td>0061U00000NjOPF</td>\n",
       "      <td>-1854769890286518797</td>\n",
       "      <td>1H003</td>\n",
       "      <td>Cerrada Perdida</td>\n",
       "      <td>2021-09-03 00:00:00</td>\n",
       "      <td>NaN</td>\n",
       "      <td>2021-10-06 00:00:00</td>\n",
       "      <td>15</td>\n",
       "      <td>36.0</td>\n",
       "      <td>Casado/a</td>\n",
       "      <td>CHONE</td>\n",
       "      <td>MANABI</td>\n",
       "      <td>Si</td>\n",
       "      <td>1905</td>\n",
       "      <td>Convalidado</td>\n",
       "      <td>Llamada</td>\n",
       "      <td>Redes sociales</td>\n",
       "    </tr>\n",
       "    <tr>\n",
       "      <th>4</th>\n",
       "      <td>0061U00000Mm1LY</td>\n",
       "      <td>5707294226770007228</td>\n",
       "      <td>1P244</td>\n",
       "      <td>Cerrada Perdida</td>\n",
       "      <td>2021-06-10 00:00:00</td>\n",
       "      <td>NaN</td>\n",
       "      <td>2021-07-29 00:00:00</td>\n",
       "      <td>16</td>\n",
       "      <td>25.0</td>\n",
       "      <td>Soltero/a</td>\n",
       "      <td>QUITO</td>\n",
       "      <td>PICHINCHA</td>\n",
       "      <td>No</td>\n",
       "      <td>94</td>\n",
       "      <td>Convalidado</td>\n",
       "      <td>Simulador Homologación</td>\n",
       "      <td>Aplicaciones</td>\n",
       "    </tr>\n",
       "  </tbody>\n",
       "</table>\n",
       "</div>"
      ],
      "text/plain": [
       "    id_oportunidad        id_estudiante programa            etapa  \\\n",
       "0  0068W00000RtT5E -7959495189833833808    1P714  Cerrada Perdida   \n",
       "1  0068W00000RulbV  8433271449132097132    1P734  Cerrada Perdida   \n",
       "2  0061U00000NB058   681923597971309571    1P614  Cerrada Perdida   \n",
       "3  0061U00000NjOPF -1854769890286518797    1H003  Cerrada Perdida   \n",
       "4  0061U00000Mm1LY  5707294226770007228    1P244  Cerrada Perdida   \n",
       "\n",
       "       fecha_afluencia fecha_ganado        fecha_perdido  consultor  edad  \\\n",
       "0  2022-01-20 00:00:00          NaN  2022-02-11 00:00:00         36  25.0   \n",
       "1  2022-02-02 00:00:00          NaN  2022-02-02 00:00:00          8  21.0   \n",
       "2  2021-07-22 00:00:00          NaN  2021-07-28 00:00:00         15  19.0   \n",
       "3  2021-09-03 00:00:00          NaN  2021-10-06 00:00:00         15  36.0   \n",
       "4  2021-06-10 00:00:00          NaN  2021-07-29 00:00:00         16  25.0   \n",
       "\n",
       "  estado_civil ciudad  provincia trabaja  colegio tipo_admision  \\\n",
       "0     Casado/a  QUITO  PICHINCHA      Si     1978        Normal   \n",
       "1          NaN  QUITO  PICHINCHA     NaN     1002        Normal   \n",
       "2          NaN  QUITO  PICHINCHA      No       18        Normal   \n",
       "3     Casado/a  CHONE     MANABI      Si     1905   Convalidado   \n",
       "4    Soltero/a  QUITO  PICHINCHA      No       94   Convalidado   \n",
       "\n",
       "                   origen       enteraste  \n",
       "0                Whatsapp     Recomendado  \n",
       "1  Simulador Homologación             NaN  \n",
       "2                Colegios      Mi colegio  \n",
       "3                 Llamada  Redes sociales  \n",
       "4  Simulador Homologación    Aplicaciones  "
      ]
     },
     "execution_count": 2,
     "metadata": {},
     "output_type": "execute_result"
    }
   ],
   "source": [
    "df = pd.read_csv('alumnos.csv')\n",
    "df.head()"
   ]
  },
  {
   "cell_type": "code",
   "execution_count": 14,
   "metadata": {},
   "outputs": [
    {
     "data": {
      "text/html": [
       "<div>\n",
       "<style scoped>\n",
       "    .dataframe tbody tr th:only-of-type {\n",
       "        vertical-align: middle;\n",
       "    }\n",
       "\n",
       "    .dataframe tbody tr th {\n",
       "        vertical-align: top;\n",
       "    }\n",
       "\n",
       "    .dataframe thead th {\n",
       "        text-align: right;\n",
       "    }\n",
       "</style>\n",
       "<table border=\"1\" class=\"dataframe\">\n",
       "  <thead>\n",
       "    <tr style=\"text-align: right;\">\n",
       "      <th></th>\n",
       "      <th>id_oportunidad</th>\n",
       "      <th>id_estudiante</th>\n",
       "      <th>programa</th>\n",
       "      <th>etapa</th>\n",
       "      <th>fecha_afluencia</th>\n",
       "      <th>fecha_cierre</th>\n",
       "      <th>ciclo</th>\n",
       "      <th>consultor</th>\n",
       "      <th>edad</th>\n",
       "      <th>estado_civil</th>\n",
       "      <th>ciudad</th>\n",
       "      <th>provincia</th>\n",
       "      <th>trabaja</th>\n",
       "      <th>colegio</th>\n",
       "      <th>tipo_admision</th>\n",
       "      <th>origen</th>\n",
       "      <th>enteraste</th>\n",
       "      <th>afl</th>\n",
       "      <th>doc</th>\n",
       "    </tr>\n",
       "  </thead>\n",
       "  <tbody>\n",
       "    <tr>\n",
       "      <th>0</th>\n",
       "      <td>0068W00000RtT5E</td>\n",
       "      <td>-7959495189833833808</td>\n",
       "      <td>1P714</td>\n",
       "      <td>perdida</td>\n",
       "      <td>2022-01-20</td>\n",
       "      <td>2022-02-11</td>\n",
       "      <td>22</td>\n",
       "      <td>36</td>\n",
       "      <td>25.0</td>\n",
       "      <td>Casado/a</td>\n",
       "      <td>QUITO</td>\n",
       "      <td>PICHINCHA</td>\n",
       "      <td>Si</td>\n",
       "      <td>1978</td>\n",
       "      <td>Normal</td>\n",
       "      <td>Whatsapp</td>\n",
       "      <td>Recomendado</td>\n",
       "      <td>1</td>\n",
       "      <td>0</td>\n",
       "    </tr>\n",
       "    <tr>\n",
       "      <th>1</th>\n",
       "      <td>0068W00000RulbV</td>\n",
       "      <td>8433271449132097132</td>\n",
       "      <td>1P734</td>\n",
       "      <td>perdida</td>\n",
       "      <td>2022-02-02</td>\n",
       "      <td>2022-02-02</td>\n",
       "      <td>0</td>\n",
       "      <td>8</td>\n",
       "      <td>21.0</td>\n",
       "      <td>NaN</td>\n",
       "      <td>QUITO</td>\n",
       "      <td>PICHINCHA</td>\n",
       "      <td>NaN</td>\n",
       "      <td>1002</td>\n",
       "      <td>Normal</td>\n",
       "      <td>Simulador Homologación</td>\n",
       "      <td>NaN</td>\n",
       "      <td>1</td>\n",
       "      <td>0</td>\n",
       "    </tr>\n",
       "    <tr>\n",
       "      <th>2</th>\n",
       "      <td>0061U00000NB058</td>\n",
       "      <td>681923597971309571</td>\n",
       "      <td>1P614</td>\n",
       "      <td>perdida</td>\n",
       "      <td>2021-07-22</td>\n",
       "      <td>2021-07-28</td>\n",
       "      <td>6</td>\n",
       "      <td>15</td>\n",
       "      <td>19.0</td>\n",
       "      <td>NaN</td>\n",
       "      <td>QUITO</td>\n",
       "      <td>PICHINCHA</td>\n",
       "      <td>No</td>\n",
       "      <td>18</td>\n",
       "      <td>Normal</td>\n",
       "      <td>Colegios</td>\n",
       "      <td>Mi colegio</td>\n",
       "      <td>1</td>\n",
       "      <td>0</td>\n",
       "    </tr>\n",
       "    <tr>\n",
       "      <th>3</th>\n",
       "      <td>0061U00000NjOPF</td>\n",
       "      <td>-1854769890286518797</td>\n",
       "      <td>1H003</td>\n",
       "      <td>perdida</td>\n",
       "      <td>2021-09-03</td>\n",
       "      <td>2021-10-06</td>\n",
       "      <td>33</td>\n",
       "      <td>15</td>\n",
       "      <td>36.0</td>\n",
       "      <td>Casado/a</td>\n",
       "      <td>CHONE</td>\n",
       "      <td>MANABI</td>\n",
       "      <td>Si</td>\n",
       "      <td>1905</td>\n",
       "      <td>Convalidado</td>\n",
       "      <td>Llamada</td>\n",
       "      <td>Redes sociales</td>\n",
       "      <td>1</td>\n",
       "      <td>0</td>\n",
       "    </tr>\n",
       "    <tr>\n",
       "      <th>4</th>\n",
       "      <td>0061U00000Mm1LY</td>\n",
       "      <td>5707294226770007228</td>\n",
       "      <td>1P244</td>\n",
       "      <td>perdida</td>\n",
       "      <td>2021-06-10</td>\n",
       "      <td>2021-07-29</td>\n",
       "      <td>49</td>\n",
       "      <td>16</td>\n",
       "      <td>25.0</td>\n",
       "      <td>Soltero/a</td>\n",
       "      <td>QUITO</td>\n",
       "      <td>PICHINCHA</td>\n",
       "      <td>No</td>\n",
       "      <td>94</td>\n",
       "      <td>Convalidado</td>\n",
       "      <td>Simulador Homologación</td>\n",
       "      <td>Aplicaciones</td>\n",
       "      <td>1</td>\n",
       "      <td>0</td>\n",
       "    </tr>\n",
       "  </tbody>\n",
       "</table>\n",
       "</div>"
      ],
      "text/plain": [
       "    id_oportunidad        id_estudiante programa    etapa fecha_afluencia  \\\n",
       "0  0068W00000RtT5E -7959495189833833808    1P714  perdida      2022-01-20   \n",
       "1  0068W00000RulbV  8433271449132097132    1P734  perdida      2022-02-02   \n",
       "2  0061U00000NB058   681923597971309571    1P614  perdida      2021-07-22   \n",
       "3  0061U00000NjOPF -1854769890286518797    1H003  perdida      2021-09-03   \n",
       "4  0061U00000Mm1LY  5707294226770007228    1P244  perdida      2021-06-10   \n",
       "\n",
       "  fecha_cierre  ciclo  consultor  edad estado_civil ciudad  provincia trabaja  \\\n",
       "0   2022-02-11     22         36  25.0     Casado/a  QUITO  PICHINCHA      Si   \n",
       "1   2022-02-02      0          8  21.0          NaN  QUITO  PICHINCHA     NaN   \n",
       "2   2021-07-28      6         15  19.0          NaN  QUITO  PICHINCHA      No   \n",
       "3   2021-10-06     33         15  36.0     Casado/a  CHONE     MANABI      Si   \n",
       "4   2021-07-29     49         16  25.0    Soltero/a  QUITO  PICHINCHA      No   \n",
       "\n",
       "   colegio tipo_admision                  origen       enteraste  afl  doc  \n",
       "0     1978        Normal                Whatsapp     Recomendado    1    0  \n",
       "1     1002        Normal  Simulador Homologación             NaN    1    0  \n",
       "2       18        Normal                Colegios      Mi colegio    1    0  \n",
       "3     1905   Convalidado                 Llamada  Redes sociales    1    0  \n",
       "4       94   Convalidado  Simulador Homologación    Aplicaciones    1    0  "
      ]
     },
     "execution_count": 14,
     "metadata": {},
     "output_type": "execute_result"
    }
   ],
   "source": [
    "df = pd.read_csv('alumnos.csv')\n",
    "\n",
    "# me enfocaré en la cartera cerrada:\n",
    "df = df[df.etapa.str.startswith('Cerrada')]\n",
    "\n",
    "# limpieza de variables\n",
    "df['etapa'] = df.etapa.map({'Cerrada Perdida':'perdida', 'Cerrada Ganada':'ganada'})\n",
    "df['fecha_afluencia'] = df['fecha_afluencia'].astype('datetime64')\n",
    "df['fecha_ganado'] = np.where(df.etapa=='ganada', df.fecha_ganado, df.fecha_perdido).astype('datetime64')\n",
    "df['fecha_perdido'] = (df.fecha_ganado - df.fecha_afluencia).dt.days\n",
    "df.rename(columns={'fecha_ganado':'fecha_cierre','fecha_perdido':'ciclo'} , inplace=True)\n",
    "df['afl'] = 1\n",
    "df['doc'] = np.where(df.etapa=='ganada',1,0)\n",
    "\n",
    "df.head()"
   ]
  },
  {
   "cell_type": "markdown",
   "metadata": {},
   "source": [
    "### Valores perdidos"
   ]
  },
  {
   "cell_type": "code",
   "execution_count": 4,
   "metadata": {},
   "outputs": [
    {
     "data": {
      "text/plain": [
       "id_oportunidad     0.000000\n",
       "id_estudiante      0.000000\n",
       "programa           0.000000\n",
       "etapa              0.000000\n",
       "fecha_afluencia    0.000000\n",
       "fecha_cierre       0.000000\n",
       "ciclo              0.000000\n",
       "consultor          0.000000\n",
       "edad               0.032853\n",
       "estado_civil       0.117170\n",
       "ciudad             0.038597\n",
       "provincia          0.030862\n",
       "trabaja            0.079568\n",
       "colegio            0.000000\n",
       "tipo_admision      0.000000\n",
       "origen             0.252642\n",
       "enteraste          0.086690\n",
       "doc                0.000000\n",
       "dtype: float64"
      ]
     },
     "execution_count": 4,
     "metadata": {},
     "output_type": "execute_result"
    }
   ],
   "source": [
    "df.isna().sum()/df.shape[0]"
   ]
  },
  {
   "cell_type": "code",
   "execution_count": 5,
   "metadata": {},
   "outputs": [
    {
     "data": {
      "text/plain": [
       "<AxesSubplot:>"
      ]
     },
     "execution_count": 5,
     "metadata": {},
     "output_type": "execute_result"
    },
    {
     "data": {
      "image/png": "[encoded data removed]",
      "text/plain": [
       "<Figure size 600x400 with 2 Axes>"
      ]
     },
     "metadata": {
      "needs_background": "light"
     },
     "output_type": "display_data"
    }
   ],
   "source": [
    "sns.heatmap(df.isna())"
   ]
  },
  {
   "cell_type": "markdown",
   "metadata": {},
   "source": [
    "- Los valores perdidos en el origen del candidato son imposibles de imputar y su ausencia de valor no representa nada. Este campo se llena automáticamente mediante una interfáz del CRM. Se eliminará esta variable.\n",
    "- Por otro lado, los valores perdidos de variables que se preguntan al candidato como: su estado civil, edad, ciudad de residencia, estatus labora y ¿cómo te enteraste de la universidad?. Nos pueden dar información acerca del interés del candidato en la oferta académica; un postulante con poco interés puede o no dar "
   ]
  },
  {
   "cell_type": "markdown",
   "metadata": {},
   "source": [
    "## Estadística descriptiva"
   ]
  },
  {
   "cell_type": "code",
   "execution_count": 6,
   "metadata": {},
   "outputs": [
    {
     "data": {
      "text/plain": [
       "<AxesSubplot:xlabel='etapa', ylabel='Count'>"
      ]
     },
     "execution_count": 6,
     "metadata": {},
     "output_type": "execute_result"
    },
    {
     "data": {
      "image/png": "[encoded data removed]",
      "text/plain": [
       "<Figure size 600x400 with 1 Axes>"
      ]
     },
     "metadata": {
      "needs_background": "light"
     },
     "output_type": "display_data"
    }
   ],
   "source": [
    "sns.histplot(data=df, x='etapa')\n"
   ]
  },
  {
   "cell_type": "code",
   "execution_count": 9,
   "metadata": {},
   "outputs": [
    {
     "data": {
      "text/plain": [
       "0.22124368203400213"
      ]
     },
     "execution_count": 9,
     "metadata": {},
     "output_type": "execute_result"
    }
   ],
   "source": [
    "# conversión\n",
    "df.doc.mean()"
   ]
  },
  {
   "cell_type": "code",
   "execution_count": 10,
   "metadata": {},
   "outputs": [
    {
     "data": {
      "text/plain": [
       "<AxesSubplot:xlabel='ciclo', ylabel='Count'>"
      ]
     },
     "execution_count": 10,
     "metadata": {},
     "output_type": "execute_result"
    },
    {
     "data": {
      "image/png": "[encoded data removed]",
      "text/plain": [
       "<Figure size 600x400 with 1 Axes>"
      ]
     },
     "metadata": {
      "needs_background": "light"
     },
     "output_type": "display_data"
    }
   ],
   "source": [
    "sns.histplot(data=df, x='ciclo', hue='etapa')"
   ]
  },
  {
   "cell_type": "markdown",
   "metadata": {},
   "source": [
    "un ciclo muy corto sugiere una baja probabilidad de matricularse"
   ]
  },
  {
   "cell_type": "code",
   "execution_count": 11,
   "metadata": {},
   "outputs": [
    {
     "data": {
      "text/plain": [
       "<AxesSubplot:>"
      ]
     },
     "execution_count": 11,
     "metadata": {},
     "output_type": "execute_result"
    },
    {
     "data": {
      "image/png": "[encoded data removed]",
      "text/plain": [
       "<Figure size 600x400 with 1 Axes>"
      ]
     },
     "metadata": {
      "needs_background": "light"
     },
     "output_type": "display_data"
    }
   ],
   "source": [
    "df.tipo_admision.hist()"
   ]
  },
  {
   "cell_type": "markdown",
   "metadata": {},
   "source": [
    "muy pocas observaciones de intercambio y especial, se eliminan las variables"
   ]
  },
  {
   "cell_type": "code",
   "execution_count": 12,
   "metadata": {},
   "outputs": [],
   "source": [
    "df = df[~df.tipo_admision.isin(['Intercambio','Especial'])]"
   ]
  },
  {
   "cell_type": "code",
   "execution_count": 13,
   "metadata": {},
   "outputs": [
    {
     "data": {
      "image/png": "[encoded data removed]",
      "text/plain": [
       "<Figure size 600x400 with 1 Axes>"
      ]
     },
     "metadata": {
      "needs_background": "light"
     },
     "output_type": "display_data"
    }
   ],
   "source": [
    "sns.barplot(data=df, x='tipo_admision', y='doc')\n",
    "plt.show()"
   ]
  },
  {
   "cell_type": "code",
   "execution_count": 28,
   "metadata": {},
   "outputs": [
    {
     "data": {
      "text/plain": [
       "<AxesSubplot:xlabel='afl', ylabel='doc'>"
      ]
     },
     "execution_count": 28,
     "metadata": {},
     "output_type": "execute_result"
    },
    {
     "data": {
      "image/png": "[encoded data removed]",
      "text/plain": [
       "<Figure size 600x400 with 1 Axes>"
      ]
     },
     "metadata": {
      "needs_background": "light"
     },
     "output_type": "display_data"
    }
   ],
   "source": [
    "dft = df.pivot_table(index='colegio', values=['afl','doc'], aggfunc=np.sum).drop(-1)\n",
    "\n",
    "dft['afl'] = dft['afl']/dft['afl'].sum()\n",
    "dft['doc'] = dft['doc']/dft['doc'].sum()\n",
    "\n",
    "sns.scatterplot(x=dft.afl, y=dft.doc)\n"
   ]
  },
  {
   "cell_type": "markdown",
   "metadata": {},
   "source": [
    "Se observa una fuerte correlación entre la cantidad de afluencias y matriculados en los colegios."
   ]
  }
 ],
 "metadata": {
  "interpreter": {
   "hash": "e1f923976e31ff2eb017838adca69c55900dd39b6b1a0310c8979ec2c19f5f54"
  },
  "kernelspec": {
   "display_name": "Python 3.10.0 64-bit",
   "language": "python",
   "name": "python3"
  },
  "language_info": {
   "codemirror_mode": {
    "name": "ipython",
    "version": 3
   },
   "file_extension": ".py",
   "mimetype": "text/x-python",
   "name": "python",
   "nbconvert_exporter": "python",
   "pygments_lexer": "ipython3",
   "version": "3.10.0"
  },
  "orig_nbformat": 4
 },
 "nbformat": 4,
 "nbformat_minor": 2
}
