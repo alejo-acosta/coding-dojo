{
  "cells": [
    {
      "cell_type": "markdown",
      "metadata": {},
      "source": [
        "# **Codig Dojo**: Track 2\n",
        "## Creado por: Alejandro Acosta\n",
        "\n",
        "- Fecha de creación: 2022-03-05\n",
        "- Fecha de modificación: 2022-03-06\n",
        "- Descripción: Predicción del fármaco adecuado."
      ]
    },
    {
      "cell_type": "code",
      "execution_count": 1,
      "metadata": {},
      "outputs": [
        {
          "ename": "SyntaxError",
          "evalue": "invalid syntax (Temp/ipykernel_2184/2259980239.py, line 6)",
          "output_type": "error",
          "traceback": [
            "\u001b[1;36m  File \u001b[1;32m\"C:\\Users\\alejo\\AppData\\Local\\Temp/ipykernel_2184/2259980239.py\"\u001b[1;36m, line \u001b[1;32m6\u001b[0m\n\u001b[1;33m    from sklearn.ensemble import\u001b[0m\n\u001b[1;37m                                ^\u001b[0m\n\u001b[1;31mSyntaxError\u001b[0m\u001b[1;31m:\u001b[0m invalid syntax\n"
          ]
        }
      ],
      "source": [
        "import pandas as pd\n",
        "import numpy as np\n",
        "import matplotlib.pyplot as plt\n",
        "import seaborn as sns\n",
        "\n",
        "from sklearn.ensemble import G\n",
        "from sklearn.model_selection import train_test_split\n",
        "from sklearn.preprocessing import LabelEncoder\n",
        "\n",
        "sns.set()\n",
        "plt.rcParams['figure.dpi'] = 100"
      ]
    }
  ],
  "metadata": {
    "colab": {
      "name": "SALARIO.ipynb",
      "provenance": []
    },
    "kernelspec": {
      "display_name": "Python 3",
      "name": "python3"
    },
    "language_info": {
      "codemirror_mode": {
        "name": "ipython",
        "version": 3
      },
      "file_extension": ".py",
      "mimetype": "text/x-python",
      "name": "python",
      "nbconvert_exporter": "python",
      "pygments_lexer": "ipython3",
      "version": "3.10.0"
    }
  },
  "nbformat": 4,
  "nbformat_minor": 0
}
