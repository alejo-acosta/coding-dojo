{
  "cells": [
    {
      "cell_type": "markdown",
      "metadata": {
        "id": "TMZQA_k7qUQq"
      },
      "source": [
        "# **Codig Dojo**: Glosario\n",
        "## Creado por: Alejandro Acosta, José Guarnizo\n",
        "\n",
        "\n",
        "- Fecha de creación: 2022-01-24\n",
        "- Fecha de modificación: 2022-01-24\n",
        "- Descripción: Glosario de palabras"
      ]
    },
    {
      "cell_type": "markdown",
      "metadata": {
        "id": "tTvEz5u1qCiX"
      },
      "source": [
        "- **Bootstrap:** Remuestreo con repetición de una muestra grande para generar distintas sub-muestras.\n",
        "\n",
        "- **Sesgo:** Diferencia entre el valor observado y un valor teórico\n",
        "\n",
        "- **Big Data:** Conjunto de datos de gran tamaño y complejidad\n",
        "\n",
        "- **Data Science:** Campo interdisciplinar que utiliza métodos, procesos, algoritmos y sistemas científicos para extraer conocimientos e ideas de datos complejos, estructurados y no estructurados.\n",
        "\n",
        "- **Inteligencia Artificial:** Se refiere a sistemas o máquinas que imitan la inteligencia humana para realizar tareas y pueden mejorar iterativamente a partir de la información que recopilan.\n",
        "\n",
        "- **Algoritmo:** Serie de pasos para realizar una tarea\n",
        "\n",
        "- **Random Forest:** Algoritmo que utiliza multiples árboles de decisió para operaciones de clasificación o regresión.\n",
        "\n",
        "- **Machine Learning:** Disciplina que a travs de algoritmos, busca identificar patrones en datos masivos para elaborar predicciones.\n",
        "\n",
        "- **Deep Learning:** Parte de Machine Learning pero utiliza redes neuronales profundas (varios niveles).\n",
        "\n",
        "- **Predicción:** Pronóstico obtenido de algún modelo.\n",
        "\n",
        "- **Validación Del Modelo:** Proceso mediante el cual un modelo es evaluado en un set de prueba.\n",
        "\n",
        "- **Validación Cruzada:** Técnica para evaluar modelos de ML, en la cual se utilizan diversas submuestras de los datos originales. Se utiliza para prevenir sobreajuste del modelo.\n",
        "\n",
        "- **Base De Entrenamiento:** Los datos con los cuales se entrena un modelo.\n",
        "\n",
        "- **Base De Prueba o Testeo:** Base en la cual se evalua un modelo entrenado para su efectividad.\n",
        "\n",
        "- **Intervalo De Confianza:** Un rango de valores definido de tal manera que existe una probabilidad determinada de que el valor de una estimación se encuentre dentro de él.\n",
        "\n",
        "- **Datos De Muestra:** Subconjunto de datos representativos perteneciente a una población de datos.\n",
        "\n",
        "- **Prueba A/B:** Experimiento aleatorio para comparar dos versiones de un producto y ver su rendimiento.\n",
        "\n",
        "- **Falsos Positivos:** Son predicciones erroneas del modelo. Se predicen como positivas y en realidad no lo son.\n",
        "\n",
        "- **Verdaderos Positivos:** Predicciones positivas acertadas por el modelo.\n",
        "\n",
        "- **Falsos Negativos:** Son predicciones erroneas del modelo. Se predicen como negativas y en realidad no lo son.\n",
        "\n",
        "- **Verdaderos Negativos:** Predicciones negativas acertadas por el modelo.\n",
        "\n",
        "- **Error Tipo II:** Falsos Negativos\n",
        "\n",
        "- **Error Tipo I:** Falsos Positivos\n",
        "\n",
        "- **Matriz De Confusión:** Matriz para visualizar el desempeño de un algoritmo. Cruza los valores predichos contra valores reales y tabula el número de items de cada categoría.\n",
        "\n",
        "- **Sensibilidad:** La capacidad del modelo de predecir valores positivos. (Verdaderos positivos/total positivos en la muestra)\n",
        "\n",
        "- **Especificidad:** La capacidad del modelo de predecir valores negativos. (Verdaderos negativos/total negativos en la muestra)\n",
        "\n",
        "- **Regresión Logística:** Es un método de regresión que permite estimar la probabilidad de una variable cualitativa binaria en función de una o varias variable cuantitativa.\n",
        "\n",
        "- **Regresión Lineal:** Es un método de regresión que permite estimar el valor de una variable cuantitativa en función de otra variable cuantitativa.\n",
        "\n",
        "- **Curvas Roc:** Ilustra la sensibilidad y especificad de un modelo.\n",
        "\n",
        "- **Precision:** Es el grado en que un modelo predice correctamente el valor de una variable (verdaderos positivos / positivos predichos).\n",
        "\n",
        "- **Variable Dummy:** Variable binaria que representa datos categóricos.\n",
        "\n",
        "- **Semilla (Términos Estadísticos):** Es un número que inicializa un estado aleatorio. Se utiliza para que los resultados de una generación aleatoria de números sean replicables.\n",
        "\n",
        "- **Distribución Normal:** Una variable aleatoria continua que sigue una función de densidad de acuerdo a una campana de gauss.\n",
        "\n",
        "- **Correlación:** Medida que expresa hasta que punto dos variables están relacionadas linealmente.\n",
        "\n",
        "\n"
      ]
    }
  ],
  "metadata": {
    "colab": {
      "collapsed_sections": [],
      "name": "Glosario_AAJG.ipynb",
      "provenance": []
    },
    "kernelspec": {
      "display_name": "Python 3",
      "name": "python3"
    },
    "language_info": {
      "name": "python"
    }
  },
  "nbformat": 4,
  "nbformat_minor": 0
}
