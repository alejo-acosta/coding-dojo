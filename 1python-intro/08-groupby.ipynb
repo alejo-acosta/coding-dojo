{
 "cells": [
  {
   "cell_type": "markdown",
   "metadata": {},
   "source": [
    "# **Codig Dojo**: GroupBy\n",
    "## Creado por: Alejandro Acosta\n",
    "\n",
    "- Fecha de creación: 2022-01-15\n",
    "- Fecha de modificación: 2022-01-15\n",
    "- Descripción: Ejercicio GroupBy"
   ]
  },
  {
   "cell_type": "code",
   "execution_count": 128,
   "metadata": {},
   "outputs": [],
   "source": [
    "import pandas as pd\n",
    "import numpy as np"
   ]
  },
  {
   "cell_type": "code",
   "execution_count": 129,
   "metadata": {},
   "outputs": [],
   "source": [
    "df = pd.read_csv('CalIt2.csv', header=None)"
   ]
  },
  {
   "cell_type": "code",
   "execution_count": 130,
   "metadata": {},
   "outputs": [
    {
     "data": {
      "text/html": [
       "<div>\n",
       "<style scoped>\n",
       "    .dataframe tbody tr th:only-of-type {\n",
       "        vertical-align: middle;\n",
       "    }\n",
       "\n",
       "    .dataframe tbody tr th {\n",
       "        vertical-align: top;\n",
       "    }\n",
       "\n",
       "    .dataframe thead th {\n",
       "        text-align: right;\n",
       "    }\n",
       "</style>\n",
       "<table border=\"1\" class=\"dataframe\">\n",
       "  <thead>\n",
       "    <tr style=\"text-align: right;\">\n",
       "      <th></th>\n",
       "      <th>0</th>\n",
       "      <th>1</th>\n",
       "      <th>2</th>\n",
       "      <th>3</th>\n",
       "    </tr>\n",
       "  </thead>\n",
       "  <tbody>\n",
       "    <tr>\n",
       "      <th>0</th>\n",
       "      <td>7</td>\n",
       "      <td>07/24/05</td>\n",
       "      <td>00:00:00</td>\n",
       "      <td>0</td>\n",
       "    </tr>\n",
       "    <tr>\n",
       "      <th>1</th>\n",
       "      <td>9</td>\n",
       "      <td>07/24/05</td>\n",
       "      <td>00:00:00</td>\n",
       "      <td>0</td>\n",
       "    </tr>\n",
       "    <tr>\n",
       "      <th>2</th>\n",
       "      <td>7</td>\n",
       "      <td>07/24/05</td>\n",
       "      <td>00:30:00</td>\n",
       "      <td>1</td>\n",
       "    </tr>\n",
       "    <tr>\n",
       "      <th>3</th>\n",
       "      <td>9</td>\n",
       "      <td>07/24/05</td>\n",
       "      <td>00:30:00</td>\n",
       "      <td>0</td>\n",
       "    </tr>\n",
       "    <tr>\n",
       "      <th>4</th>\n",
       "      <td>7</td>\n",
       "      <td>07/24/05</td>\n",
       "      <td>01:00:00</td>\n",
       "      <td>0</td>\n",
       "    </tr>\n",
       "  </tbody>\n",
       "</table>\n",
       "</div>"
      ],
      "text/plain": [
       "   0         1         2  3\n",
       "0  7  07/24/05  00:00:00  0\n",
       "1  9  07/24/05  00:00:00  0\n",
       "2  7  07/24/05  00:30:00  1\n",
       "3  9  07/24/05  00:30:00  0\n",
       "4  7  07/24/05  01:00:00  0"
      ]
     },
     "execution_count": 130,
     "metadata": {},
     "output_type": "execute_result"
    }
   ],
   "source": [
    "df.head()"
   ]
  },
  {
   "cell_type": "code",
   "execution_count": 131,
   "metadata": {},
   "outputs": [],
   "source": [
    "df.columns = ['ID_Flujo', 'Fecha', 'Hora', 'Conteo']\n"
   ]
  },
  {
   "cell_type": "code",
   "execution_count": 132,
   "metadata": {},
   "outputs": [
    {
     "data": {
      "text/html": [
       "<div>\n",
       "<style scoped>\n",
       "    .dataframe tbody tr th:only-of-type {\n",
       "        vertical-align: middle;\n",
       "    }\n",
       "\n",
       "    .dataframe tbody tr th {\n",
       "        vertical-align: top;\n",
       "    }\n",
       "\n",
       "    .dataframe thead th {\n",
       "        text-align: right;\n",
       "    }\n",
       "</style>\n",
       "<table border=\"1\" class=\"dataframe\">\n",
       "  <thead>\n",
       "    <tr style=\"text-align: right;\">\n",
       "      <th></th>\n",
       "      <th>ID_Flujo</th>\n",
       "      <th>Fecha</th>\n",
       "      <th>Hora</th>\n",
       "      <th>Conteo</th>\n",
       "    </tr>\n",
       "  </thead>\n",
       "  <tbody>\n",
       "    <tr>\n",
       "      <th>0</th>\n",
       "      <td>7</td>\n",
       "      <td>07/24/05</td>\n",
       "      <td>00:00:00</td>\n",
       "      <td>0</td>\n",
       "    </tr>\n",
       "    <tr>\n",
       "      <th>1</th>\n",
       "      <td>9</td>\n",
       "      <td>07/24/05</td>\n",
       "      <td>00:00:00</td>\n",
       "      <td>0</td>\n",
       "    </tr>\n",
       "    <tr>\n",
       "      <th>2</th>\n",
       "      <td>7</td>\n",
       "      <td>07/24/05</td>\n",
       "      <td>00:30:00</td>\n",
       "      <td>1</td>\n",
       "    </tr>\n",
       "    <tr>\n",
       "      <th>3</th>\n",
       "      <td>9</td>\n",
       "      <td>07/24/05</td>\n",
       "      <td>00:30:00</td>\n",
       "      <td>0</td>\n",
       "    </tr>\n",
       "    <tr>\n",
       "      <th>4</th>\n",
       "      <td>7</td>\n",
       "      <td>07/24/05</td>\n",
       "      <td>01:00:00</td>\n",
       "      <td>0</td>\n",
       "    </tr>\n",
       "  </tbody>\n",
       "</table>\n",
       "</div>"
      ],
      "text/plain": [
       "   ID_Flujo     Fecha      Hora  Conteo\n",
       "0         7  07/24/05  00:00:00       0\n",
       "1         9  07/24/05  00:00:00       0\n",
       "2         7  07/24/05  00:30:00       1\n",
       "3         9  07/24/05  00:30:00       0\n",
       "4         7  07/24/05  01:00:00       0"
      ]
     },
     "execution_count": 132,
     "metadata": {},
     "output_type": "execute_result"
    }
   ],
   "source": [
    "df.head()"
   ]
  },
  {
   "cell_type": "code",
   "execution_count": 133,
   "metadata": {},
   "outputs": [],
   "source": [
    "df['Fecha'] = df['Fecha'].astype('datetime64')"
   ]
  },
  {
   "cell_type": "code",
   "execution_count": 134,
   "metadata": {},
   "outputs": [],
   "source": [
    "filtro = df['Fecha'] >= '2005-07-24'\n",
    "\n",
    "df1 = df[filtro]"
   ]
  },
  {
   "cell_type": "code",
   "execution_count": 135,
   "metadata": {},
   "outputs": [],
   "source": [
    "df1 = df1.sort_values('Conteo', ascending=False).head(10)"
   ]
  },
  {
   "cell_type": "code",
   "execution_count": 136,
   "metadata": {},
   "outputs": [],
   "source": [
    "df1['Conteo'] = df1.Conteo.apply(lambda x: x - df1.Conteo.min())"
   ]
  },
  {
   "cell_type": "code",
   "execution_count": 137,
   "metadata": {},
   "outputs": [
    {
     "data": {
      "text/html": [
       "<div>\n",
       "<style scoped>\n",
       "    .dataframe tbody tr th:only-of-type {\n",
       "        vertical-align: middle;\n",
       "    }\n",
       "\n",
       "    .dataframe tbody tr th {\n",
       "        vertical-align: top;\n",
       "    }\n",
       "\n",
       "    .dataframe thead th {\n",
       "        text-align: right;\n",
       "    }\n",
       "</style>\n",
       "<table border=\"1\" class=\"dataframe\">\n",
       "  <thead>\n",
       "    <tr style=\"text-align: right;\">\n",
       "      <th></th>\n",
       "      <th>ID_Flujo</th>\n",
       "      <th>Fecha</th>\n",
       "      <th>Hora</th>\n",
       "      <th>Conteo</th>\n",
       "    </tr>\n",
       "  </thead>\n",
       "  <tbody>\n",
       "    <tr>\n",
       "      <th>6879</th>\n",
       "      <td>9</td>\n",
       "      <td>2005-10-03</td>\n",
       "      <td>15:30:00</td>\n",
       "      <td>12</td>\n",
       "    </tr>\n",
       "    <tr>\n",
       "      <th>335</th>\n",
       "      <td>9</td>\n",
       "      <td>2005-07-27</td>\n",
       "      <td>11:30:00</td>\n",
       "      <td>11</td>\n",
       "    </tr>\n",
       "    <tr>\n",
       "      <th>6881</th>\n",
       "      <td>9</td>\n",
       "      <td>2005-10-03</td>\n",
       "      <td>16:00:00</td>\n",
       "      <td>5</td>\n",
       "    </tr>\n",
       "    <tr>\n",
       "      <th>9682</th>\n",
       "      <td>7</td>\n",
       "      <td>2005-11-01</td>\n",
       "      <td>20:30:00</td>\n",
       "      <td>4</td>\n",
       "    </tr>\n",
       "    <tr>\n",
       "      <th>9686</th>\n",
       "      <td>7</td>\n",
       "      <td>2005-11-01</td>\n",
       "      <td>21:30:00</td>\n",
       "      <td>4</td>\n",
       "    </tr>\n",
       "    <tr>\n",
       "      <th>9681</th>\n",
       "      <td>9</td>\n",
       "      <td>2005-11-01</td>\n",
       "      <td>20:00:00</td>\n",
       "      <td>3</td>\n",
       "    </tr>\n",
       "    <tr>\n",
       "      <th>6878</th>\n",
       "      <td>7</td>\n",
       "      <td>2005-10-03</td>\n",
       "      <td>15:30:00</td>\n",
       "      <td>2</td>\n",
       "    </tr>\n",
       "    <tr>\n",
       "      <th>9933</th>\n",
       "      <td>9</td>\n",
       "      <td>2005-11-04</td>\n",
       "      <td>11:00:00</td>\n",
       "      <td>0</td>\n",
       "    </tr>\n",
       "    <tr>\n",
       "      <th>3615</th>\n",
       "      <td>9</td>\n",
       "      <td>2005-08-30</td>\n",
       "      <td>15:30:00</td>\n",
       "      <td>0</td>\n",
       "    </tr>\n",
       "    <tr>\n",
       "      <th>8913</th>\n",
       "      <td>9</td>\n",
       "      <td>2005-10-24</td>\n",
       "      <td>20:00:00</td>\n",
       "      <td>0</td>\n",
       "    </tr>\n",
       "  </tbody>\n",
       "</table>\n",
       "</div>"
      ],
      "text/plain": [
       "      ID_Flujo      Fecha      Hora  Conteo\n",
       "6879         9 2005-10-03  15:30:00      12\n",
       "335          9 2005-07-27  11:30:00      11\n",
       "6881         9 2005-10-03  16:00:00       5\n",
       "9682         7 2005-11-01  20:30:00       4\n",
       "9686         7 2005-11-01  21:30:00       4\n",
       "9681         9 2005-11-01  20:00:00       3\n",
       "6878         7 2005-10-03  15:30:00       2\n",
       "9933         9 2005-11-04  11:00:00       0\n",
       "3615         9 2005-08-30  15:30:00       0\n",
       "8913         9 2005-10-24  20:00:00       0"
      ]
     },
     "execution_count": 137,
     "metadata": {},
     "output_type": "execute_result"
    }
   ],
   "source": [
    "df1"
   ]
  },
  {
   "cell_type": "code",
   "execution_count": 127,
   "metadata": {},
   "outputs": [
    {
     "data": {
      "text/plain": [
       "4.1"
      ]
     },
     "execution_count": 127,
     "metadata": {},
     "output_type": "execute_result"
    }
   ],
   "source": [
    "df1['Conteo'].mean()"
   ]
  },
  {
   "cell_type": "code",
   "execution_count": 143,
   "metadata": {},
   "outputs": [],
   "source": [
    "df2 = df[(df.Fecha.dt.month==8)&(df.Fecha.dt.year==2005)&(df.ID_Flujo==7)]"
   ]
  },
  {
   "cell_type": "code",
   "execution_count": 144,
   "metadata": {},
   "outputs": [
    {
     "data": {
      "text/html": [
       "<div>\n",
       "<style scoped>\n",
       "    .dataframe tbody tr th:only-of-type {\n",
       "        vertical-align: middle;\n",
       "    }\n",
       "\n",
       "    .dataframe tbody tr th {\n",
       "        vertical-align: top;\n",
       "    }\n",
       "\n",
       "    .dataframe thead th {\n",
       "        text-align: right;\n",
       "    }\n",
       "</style>\n",
       "<table border=\"1\" class=\"dataframe\">\n",
       "  <thead>\n",
       "    <tr style=\"text-align: right;\">\n",
       "      <th></th>\n",
       "      <th>ID_Flujo</th>\n",
       "      <th>Fecha</th>\n",
       "      <th>Hora</th>\n",
       "      <th>Conteo</th>\n",
       "    </tr>\n",
       "  </thead>\n",
       "  <tbody>\n",
       "    <tr>\n",
       "      <th>768</th>\n",
       "      <td>7</td>\n",
       "      <td>2005-08-01</td>\n",
       "      <td>00:00:00</td>\n",
       "      <td>1</td>\n",
       "    </tr>\n",
       "    <tr>\n",
       "      <th>770</th>\n",
       "      <td>7</td>\n",
       "      <td>2005-08-01</td>\n",
       "      <td>00:30:00</td>\n",
       "      <td>0</td>\n",
       "    </tr>\n",
       "    <tr>\n",
       "      <th>772</th>\n",
       "      <td>7</td>\n",
       "      <td>2005-08-01</td>\n",
       "      <td>01:00:00</td>\n",
       "      <td>0</td>\n",
       "    </tr>\n",
       "    <tr>\n",
       "      <th>774</th>\n",
       "      <td>7</td>\n",
       "      <td>2005-08-01</td>\n",
       "      <td>01:30:00</td>\n",
       "      <td>0</td>\n",
       "    </tr>\n",
       "    <tr>\n",
       "      <th>776</th>\n",
       "      <td>7</td>\n",
       "      <td>2005-08-01</td>\n",
       "      <td>02:00:00</td>\n",
       "      <td>0</td>\n",
       "    </tr>\n",
       "    <tr>\n",
       "      <th>...</th>\n",
       "      <td>...</td>\n",
       "      <td>...</td>\n",
       "      <td>...</td>\n",
       "      <td>...</td>\n",
       "    </tr>\n",
       "    <tr>\n",
       "      <th>3734</th>\n",
       "      <td>7</td>\n",
       "      <td>2005-08-31</td>\n",
       "      <td>21:30:00</td>\n",
       "      <td>0</td>\n",
       "    </tr>\n",
       "    <tr>\n",
       "      <th>3736</th>\n",
       "      <td>7</td>\n",
       "      <td>2005-08-31</td>\n",
       "      <td>22:00:00</td>\n",
       "      <td>2</td>\n",
       "    </tr>\n",
       "    <tr>\n",
       "      <th>3738</th>\n",
       "      <td>7</td>\n",
       "      <td>2005-08-31</td>\n",
       "      <td>22:30:00</td>\n",
       "      <td>1</td>\n",
       "    </tr>\n",
       "    <tr>\n",
       "      <th>3740</th>\n",
       "      <td>7</td>\n",
       "      <td>2005-08-31</td>\n",
       "      <td>23:00:00</td>\n",
       "      <td>0</td>\n",
       "    </tr>\n",
       "    <tr>\n",
       "      <th>3742</th>\n",
       "      <td>7</td>\n",
       "      <td>2005-08-31</td>\n",
       "      <td>23:30:00</td>\n",
       "      <td>2</td>\n",
       "    </tr>\n",
       "  </tbody>\n",
       "</table>\n",
       "<p>1488 rows × 4 columns</p>\n",
       "</div>"
      ],
      "text/plain": [
       "      ID_Flujo      Fecha      Hora  Conteo\n",
       "768          7 2005-08-01  00:00:00       1\n",
       "770          7 2005-08-01  00:30:00       0\n",
       "772          7 2005-08-01  01:00:00       0\n",
       "774          7 2005-08-01  01:30:00       0\n",
       "776          7 2005-08-01  02:00:00       0\n",
       "...        ...        ...       ...     ...\n",
       "3734         7 2005-08-31  21:30:00       0\n",
       "3736         7 2005-08-31  22:00:00       2\n",
       "3738         7 2005-08-31  22:30:00       1\n",
       "3740         7 2005-08-31  23:00:00       0\n",
       "3742         7 2005-08-31  23:30:00       2\n",
       "\n",
       "[1488 rows x 4 columns]"
      ]
     },
     "execution_count": 144,
     "metadata": {},
     "output_type": "execute_result"
    }
   ],
   "source": [
    "df2"
   ]
  },
  {
   "cell_type": "code",
   "execution_count": 146,
   "metadata": {},
   "outputs": [
    {
     "data": {
      "text/plain": [
       "Fecha\n",
       "2005-08-01    18\n",
       "2005-08-02    16\n",
       "2005-08-03    26\n",
       "2005-08-04    40\n",
       "2005-08-05    17\n",
       "2005-08-06     8\n",
       "2005-08-07     3\n",
       "2005-08-08    16\n",
       "2005-08-09    19\n",
       "2005-08-10    25\n",
       "2005-08-11    16\n",
       "2005-08-12    21\n",
       "2005-08-13     5\n",
       "2005-08-14     3\n",
       "2005-08-15    17\n",
       "2005-08-16    24\n",
       "2005-08-17    22\n",
       "2005-08-18    39\n",
       "2005-08-19    23\n",
       "2005-08-20     3\n",
       "2005-08-21     4\n",
       "2005-08-22    23\n",
       "2005-08-23    25\n",
       "2005-08-24    17\n",
       "2005-08-25    24\n",
       "2005-08-26    22\n",
       "2005-08-27     3\n",
       "2005-08-28     7\n",
       "2005-08-29    15\n",
       "2005-08-30    47\n",
       "2005-08-31    19\n",
       "Name: Conteo, dtype: int64"
      ]
     },
     "execution_count": 146,
     "metadata": {},
     "output_type": "execute_result"
    }
   ],
   "source": [
    "df2.groupby('Fecha')['Conteo'].max()"
   ]
  }
 ],
 "metadata": {
  "interpreter": {
   "hash": "e1f923976e31ff2eb017838adca69c55900dd39b6b1a0310c8979ec2c19f5f54"
  },
  "kernelspec": {
   "display_name": "Python 3.10.0 64-bit",
   "language": "python",
   "name": "python3"
  },
  "language_info": {
   "codemirror_mode": {
    "name": "ipython",
    "version": 3
   },
   "file_extension": ".py",
   "mimetype": "text/x-python",
   "name": "python",
   "nbconvert_exporter": "python",
   "pygments_lexer": "ipython3",
   "version": "3.10.0"
  },
  "orig_nbformat": 4
 },
 "nbformat": 4,
 "nbformat_minor": 2
}
