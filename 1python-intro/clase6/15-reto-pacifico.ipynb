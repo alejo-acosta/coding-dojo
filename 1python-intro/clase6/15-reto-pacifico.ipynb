{
 "cells": [
  {
   "cell_type": "markdown",
   "metadata": {},
   "source": [
    "# **Codig Dojo**: Reto banco del pacífico\n",
    "## Creado por: Alejandro Acosta\n",
    "\n",
    "- Fecha de creación: 2022-01-19\n",
    "- Fecha de modificación: 2022-01-19\n",
    "- Descripción: Reto banco del pacífico"
   ]
  },
  {
   "cell_type": "code",
   "execution_count": 122,
   "metadata": {},
   "outputs": [],
   "source": [
    "import pandas as pd\n",
    "import numpy as np\n",
    "import matplotlib.pyplot as plt\n",
    "import seaborn as sns\n",
    "\n",
    "sns.set()"
   ]
  },
  {
   "cell_type": "markdown",
   "metadata": {},
   "source": [
    "## Importación de datos y union de las bases"
   ]
  },
  {
   "cell_type": "code",
   "execution_count": 123,
   "metadata": {},
   "outputs": [
    {
     "name": "stdout",
     "output_type": "stream",
     "text": [
      "(24299, 7)\n",
      "(5, 3)\n",
      "(27, 5)\n",
      "(24299, 13)\n"
     ]
    }
   ],
   "source": [
    "file = './Reto/Data_Banco.xlsx'\n",
    "\n",
    "df = pd.read_excel(file, sheet_name='Data')\n",
    "print(df.shape)\n",
    "sucursal = pd.read_excel(file, sheet_name='Data_Sucursal').rename(\n",
    "    columns={'ID_Sucursal': 'Sucursal', 'Sucursal': 'Nombre_Sucursal'})\n",
    "print(sucursal.shape)\n",
    "\n",
    "cajeros = pd.read_excel(file, sheet_name='Data_Cajero')\n",
    "print(cajeros.shape)\n",
    "\n",
    "df = df.merge(cajeros, how='left', on='Cajero').merge(\n",
    "    sucursal, how='left', on='Sucursal')\n",
    "print(df.shape)\n"
   ]
  },
  {
   "cell_type": "markdown",
   "metadata": {},
   "source": [
    "## Limpieza datos"
   ]
  },
  {
   "cell_type": "code",
   "execution_count": 124,
   "metadata": {},
   "outputs": [
    {
     "name": "stdout",
     "output_type": "stream",
     "text": [
      "Proporción datos Vacios\n"
     ]
    },
    {
     "data": {
      "text/plain": [
       "Sucursal               0.0\n",
       "Cajero                 0.0\n",
       "ID_Transaccion         0.0\n",
       "Transaccion            0.0\n",
       "Tiempo_Servicio_seg    0.0\n",
       "Satisfaccion           0.0\n",
       "Monto                  0.0\n",
       "Edad                   0.0\n",
       "Sexo                   0.0\n",
       "Nivel_Formacion        0.0\n",
       "Anio Ingreso           0.0\n",
       "Nombre_Sucursal        0.0\n",
       "Nuevo_Sistema          0.0\n",
       "dtype: float64"
      ]
     },
     "execution_count": 124,
     "metadata": {},
     "output_type": "execute_result"
    }
   ],
   "source": [
    "print('Proporción datos Vacios')\n",
    "df.isna().sum()/df.shape[0]"
   ]
  },
  {
   "cell_type": "code",
   "execution_count": 125,
   "metadata": {},
   "outputs": [
    {
     "data": {
      "text/html": [
       "<div>\n",
       "<style scoped>\n",
       "    .dataframe tbody tr th:only-of-type {\n",
       "        vertical-align: middle;\n",
       "    }\n",
       "\n",
       "    .dataframe tbody tr th {\n",
       "        vertical-align: top;\n",
       "    }\n",
       "\n",
       "    .dataframe thead th {\n",
       "        text-align: right;\n",
       "    }\n",
       "</style>\n",
       "<table border=\"1\" class=\"dataframe\">\n",
       "  <thead>\n",
       "    <tr style=\"text-align: right;\">\n",
       "      <th></th>\n",
       "      <th>Sucursal</th>\n",
       "      <th>Cajero</th>\n",
       "      <th>ID_Transaccion</th>\n",
       "      <th>Transaccion</th>\n",
       "      <th>Tiempo_Servicio_seg</th>\n",
       "      <th>Satisfaccion</th>\n",
       "      <th>Monto</th>\n",
       "      <th>Edad</th>\n",
       "      <th>Sexo</th>\n",
       "      <th>Nivel_Formacion</th>\n",
       "      <th>Anio Ingreso</th>\n",
       "      <th>Nombre_Sucursal</th>\n",
       "      <th>Nuevo_Sistema</th>\n",
       "    </tr>\n",
       "  </thead>\n",
       "  <tbody>\n",
       "    <tr>\n",
       "      <th>0</th>\n",
       "      <td>62</td>\n",
       "      <td>4820</td>\n",
       "      <td>2</td>\n",
       "      <td>Cobro/Pago (Cta externa)</td>\n",
       "      <td>311.0</td>\n",
       "      <td>Muy Bueno</td>\n",
       "      <td>2889,3</td>\n",
       "      <td>42</td>\n",
       "      <td>F</td>\n",
       "      <td>Bachiller</td>\n",
       "      <td>1995</td>\n",
       "      <td>Riocentro Sur</td>\n",
       "      <td>No</td>\n",
       "    </tr>\n",
       "    <tr>\n",
       "      <th>1</th>\n",
       "      <td>62</td>\n",
       "      <td>4820</td>\n",
       "      <td>2</td>\n",
       "      <td>Cobro/Pago (Cta externa)</td>\n",
       "      <td>156.0</td>\n",
       "      <td>Malo</td>\n",
       "      <td>1670,69</td>\n",
       "      <td>42</td>\n",
       "      <td>F</td>\n",
       "      <td>Bachiller</td>\n",
       "      <td>1995</td>\n",
       "      <td>Riocentro Sur</td>\n",
       "      <td>No</td>\n",
       "    </tr>\n",
       "    <tr>\n",
       "      <th>2</th>\n",
       "      <td>62</td>\n",
       "      <td>4820</td>\n",
       "      <td>2</td>\n",
       "      <td>Cobro/Pago (Cta externa)</td>\n",
       "      <td>248.0</td>\n",
       "      <td>Regular</td>\n",
       "      <td>3172,49</td>\n",
       "      <td>42</td>\n",
       "      <td>F</td>\n",
       "      <td>Bachiller</td>\n",
       "      <td>1995</td>\n",
       "      <td>Riocentro Sur</td>\n",
       "      <td>No</td>\n",
       "    </tr>\n",
       "    <tr>\n",
       "      <th>3</th>\n",
       "      <td>62</td>\n",
       "      <td>4820</td>\n",
       "      <td>2</td>\n",
       "      <td>Cobro/Pago (Cta externa)</td>\n",
       "      <td>99.0</td>\n",
       "      <td>Regular</td>\n",
       "      <td>1764.92</td>\n",
       "      <td>42</td>\n",
       "      <td>F</td>\n",
       "      <td>Bachiller</td>\n",
       "      <td>1995</td>\n",
       "      <td>Riocentro Sur</td>\n",
       "      <td>No</td>\n",
       "    </tr>\n",
       "    <tr>\n",
       "      <th>4</th>\n",
       "      <td>62</td>\n",
       "      <td>4820</td>\n",
       "      <td>2</td>\n",
       "      <td>Cobro/Pago (Cta externa)</td>\n",
       "      <td>123.0</td>\n",
       "      <td>Muy Bueno</td>\n",
       "      <td>1835.69</td>\n",
       "      <td>42</td>\n",
       "      <td>F</td>\n",
       "      <td>Bachiller</td>\n",
       "      <td>1995</td>\n",
       "      <td>Riocentro Sur</td>\n",
       "      <td>No</td>\n",
       "    </tr>\n",
       "  </tbody>\n",
       "</table>\n",
       "</div>"
      ],
      "text/plain": [
       "   Sucursal  Cajero  ID_Transaccion               Transaccion  \\\n",
       "0        62    4820               2  Cobro/Pago (Cta externa)   \n",
       "1        62    4820               2  Cobro/Pago (Cta externa)   \n",
       "2        62    4820               2  Cobro/Pago (Cta externa)   \n",
       "3        62    4820               2  Cobro/Pago (Cta externa)   \n",
       "4        62    4820               2  Cobro/Pago (Cta externa)   \n",
       "\n",
       "   Tiempo_Servicio_seg Satisfaccion    Monto  Edad Sexo Nivel_Formacion  \\\n",
       "0                311.0    Muy Bueno   2889,3    42    F       Bachiller   \n",
       "1                156.0         Malo  1670,69    42    F       Bachiller   \n",
       "2                248.0      Regular  3172,49    42    F       Bachiller   \n",
       "3                 99.0      Regular  1764.92    42    F       Bachiller   \n",
       "4                123.0    Muy Bueno  1835.69    42    F       Bachiller   \n",
       "\n",
       "   Anio Ingreso Nombre_Sucursal Nuevo_Sistema  \n",
       "0          1995   Riocentro Sur            No  \n",
       "1          1995   Riocentro Sur            No  \n",
       "2          1995   Riocentro Sur            No  \n",
       "3          1995   Riocentro Sur            No  \n",
       "4          1995   Riocentro Sur            No  "
      ]
     },
     "execution_count": 125,
     "metadata": {},
     "output_type": "execute_result"
    }
   ],
   "source": [
    "df.head()"
   ]
  },
  {
   "cell_type": "code",
   "execution_count": 126,
   "metadata": {},
   "outputs": [
    {
     "data": {
      "text/plain": [
       "Sucursal                 int64\n",
       "Cajero                   int64\n",
       "ID_Transaccion           int64\n",
       "Transaccion             object\n",
       "Tiempo_Servicio_seg    float64\n",
       "Satisfaccion            object\n",
       "Monto                   object\n",
       "Edad                     int64\n",
       "Sexo                    object\n",
       "Nivel_Formacion         object\n",
       "Anio Ingreso             int64\n",
       "Nombre_Sucursal         object\n",
       "Nuevo_Sistema           object\n",
       "dtype: object"
      ]
     },
     "execution_count": 126,
     "metadata": {},
     "output_type": "execute_result"
    }
   ],
   "source": [
    "df.dtypes"
   ]
  },
  {
   "cell_type": "code",
   "execution_count": 127,
   "metadata": {},
   "outputs": [],
   "source": [
    "df['Monto'] = df.Monto.apply(lambda x: str(x).replace(',','.'))\n",
    "df['Monto'] = df.Monto.astype(float)"
   ]
  },
  {
   "cell_type": "code",
   "execution_count": 128,
   "metadata": {},
   "outputs": [
    {
     "name": "stdout",
     "output_type": "stream",
     "text": [
      "Se han realizado: 24299 transacciones en la semana\n"
     ]
    }
   ],
   "source": [
    "n_transacciones = df.shape[0]\n",
    "print(f'Se han realizado: {n_transacciones} transacciones en la semana')"
   ]
  },
  {
   "cell_type": "code",
   "execution_count": 129,
   "metadata": {},
   "outputs": [
    {
     "name": "stdout",
     "output_type": "stream",
     "text": [
      "Se han evaluado a: 27 cajeros\n"
     ]
    }
   ],
   "source": [
    "n_cajeros = len(df.Cajero.unique())\n",
    "print(f'Se han evaluado a: {n_cajeros} cajeros')"
   ]
  },
  {
   "cell_type": "code",
   "execution_count": 130,
   "metadata": {},
   "outputs": [
    {
     "name": "stdout",
     "output_type": "stream",
     "text": [
      "Se han evaluado a: 27 sucursales\n"
     ]
    }
   ],
   "source": [
    "n_sucursales = len(df.Cajero.unique())\n",
    "print(f'Se han evaluado a: {n_sucursales} sucursales')"
   ]
  },
  {
   "cell_type": "code",
   "execution_count": 131,
   "metadata": {},
   "outputs": [
    {
     "data": {
      "text/html": [
       "<div>\n",
       "<style scoped>\n",
       "    .dataframe tbody tr th:only-of-type {\n",
       "        vertical-align: middle;\n",
       "    }\n",
       "\n",
       "    .dataframe tbody tr th {\n",
       "        vertical-align: top;\n",
       "    }\n",
       "\n",
       "    .dataframe thead th {\n",
       "        text-align: right;\n",
       "    }\n",
       "</style>\n",
       "<table border=\"1\" class=\"dataframe\">\n",
       "  <thead>\n",
       "    <tr style=\"text-align: right;\">\n",
       "      <th></th>\n",
       "      <th>Sucursal</th>\n",
       "      <th>Cajero</th>\n",
       "      <th>ID_Transaccion</th>\n",
       "      <th>Transaccion</th>\n",
       "      <th>Tiempo_Servicio_seg</th>\n",
       "      <th>Satisfaccion</th>\n",
       "      <th>Monto</th>\n",
       "      <th>Edad</th>\n",
       "      <th>Sexo</th>\n",
       "      <th>Nivel_Formacion</th>\n",
       "      <th>Anio Ingreso</th>\n",
       "      <th>Nombre_Sucursal</th>\n",
       "      <th>Nuevo_Sistema</th>\n",
       "    </tr>\n",
       "  </thead>\n",
       "  <tbody>\n",
       "    <tr>\n",
       "      <th>0</th>\n",
       "      <td>62</td>\n",
       "      <td>4820</td>\n",
       "      <td>2</td>\n",
       "      <td>Cobro/Pago (Cta externa)</td>\n",
       "      <td>311.0</td>\n",
       "      <td>Muy Bueno</td>\n",
       "      <td>2889.30</td>\n",
       "      <td>42</td>\n",
       "      <td>F</td>\n",
       "      <td>Bachiller</td>\n",
       "      <td>1995</td>\n",
       "      <td>Riocentro Sur</td>\n",
       "      <td>No</td>\n",
       "    </tr>\n",
       "    <tr>\n",
       "      <th>1</th>\n",
       "      <td>62</td>\n",
       "      <td>4820</td>\n",
       "      <td>2</td>\n",
       "      <td>Cobro/Pago (Cta externa)</td>\n",
       "      <td>156.0</td>\n",
       "      <td>Malo</td>\n",
       "      <td>1670.69</td>\n",
       "      <td>42</td>\n",
       "      <td>F</td>\n",
       "      <td>Bachiller</td>\n",
       "      <td>1995</td>\n",
       "      <td>Riocentro Sur</td>\n",
       "      <td>No</td>\n",
       "    </tr>\n",
       "    <tr>\n",
       "      <th>2</th>\n",
       "      <td>62</td>\n",
       "      <td>4820</td>\n",
       "      <td>2</td>\n",
       "      <td>Cobro/Pago (Cta externa)</td>\n",
       "      <td>248.0</td>\n",
       "      <td>Regular</td>\n",
       "      <td>3172.49</td>\n",
       "      <td>42</td>\n",
       "      <td>F</td>\n",
       "      <td>Bachiller</td>\n",
       "      <td>1995</td>\n",
       "      <td>Riocentro Sur</td>\n",
       "      <td>No</td>\n",
       "    </tr>\n",
       "    <tr>\n",
       "      <th>3</th>\n",
       "      <td>62</td>\n",
       "      <td>4820</td>\n",
       "      <td>2</td>\n",
       "      <td>Cobro/Pago (Cta externa)</td>\n",
       "      <td>99.0</td>\n",
       "      <td>Regular</td>\n",
       "      <td>1764.92</td>\n",
       "      <td>42</td>\n",
       "      <td>F</td>\n",
       "      <td>Bachiller</td>\n",
       "      <td>1995</td>\n",
       "      <td>Riocentro Sur</td>\n",
       "      <td>No</td>\n",
       "    </tr>\n",
       "    <tr>\n",
       "      <th>4</th>\n",
       "      <td>62</td>\n",
       "      <td>4820</td>\n",
       "      <td>2</td>\n",
       "      <td>Cobro/Pago (Cta externa)</td>\n",
       "      <td>123.0</td>\n",
       "      <td>Muy Bueno</td>\n",
       "      <td>1835.69</td>\n",
       "      <td>42</td>\n",
       "      <td>F</td>\n",
       "      <td>Bachiller</td>\n",
       "      <td>1995</td>\n",
       "      <td>Riocentro Sur</td>\n",
       "      <td>No</td>\n",
       "    </tr>\n",
       "  </tbody>\n",
       "</table>\n",
       "</div>"
      ],
      "text/plain": [
       "   Sucursal  Cajero  ID_Transaccion               Transaccion  \\\n",
       "0        62    4820               2  Cobro/Pago (Cta externa)   \n",
       "1        62    4820               2  Cobro/Pago (Cta externa)   \n",
       "2        62    4820               2  Cobro/Pago (Cta externa)   \n",
       "3        62    4820               2  Cobro/Pago (Cta externa)   \n",
       "4        62    4820               2  Cobro/Pago (Cta externa)   \n",
       "\n",
       "   Tiempo_Servicio_seg Satisfaccion    Monto  Edad Sexo Nivel_Formacion  \\\n",
       "0                311.0    Muy Bueno  2889.30    42    F       Bachiller   \n",
       "1                156.0         Malo  1670.69    42    F       Bachiller   \n",
       "2                248.0      Regular  3172.49    42    F       Bachiller   \n",
       "3                 99.0      Regular  1764.92    42    F       Bachiller   \n",
       "4                123.0    Muy Bueno  1835.69    42    F       Bachiller   \n",
       "\n",
       "   Anio Ingreso Nombre_Sucursal Nuevo_Sistema  \n",
       "0          1995   Riocentro Sur            No  \n",
       "1          1995   Riocentro Sur            No  \n",
       "2          1995   Riocentro Sur            No  \n",
       "3          1995   Riocentro Sur            No  \n",
       "4          1995   Riocentro Sur            No  "
      ]
     },
     "execution_count": 131,
     "metadata": {},
     "output_type": "execute_result"
    }
   ],
   "source": [
    "df.head()"
   ]
  },
  {
   "cell_type": "code",
   "execution_count": 93,
   "metadata": {},
   "outputs": [
    {
     "name": "stdout",
     "output_type": "stream",
     "text": [
      "El tiempo promedio de atención al cliente es: 155.58 segundos\n"
     ]
    }
   ],
   "source": [
    "tiempo_promedio = np.round(df.Tiempo_Servicio_seg.mean(),2)\n",
    "print(f'El tiempo promedio de atención al cliente es: {tiempo_promedio} segundos')"
   ]
  },
  {
   "cell_type": "code",
   "execution_count": 133,
   "metadata": {},
   "outputs": [
    {
     "data": {
      "text/html": [
       "<div>\n",
       "<style scoped>\n",
       "    .dataframe tbody tr th:only-of-type {\n",
       "        vertical-align: middle;\n",
       "    }\n",
       "\n",
       "    .dataframe tbody tr th {\n",
       "        vertical-align: top;\n",
       "    }\n",
       "\n",
       "    .dataframe thead th {\n",
       "        text-align: right;\n",
       "    }\n",
       "</style>\n",
       "<table border=\"1\" class=\"dataframe\">\n",
       "  <thead>\n",
       "    <tr style=\"text-align: right;\">\n",
       "      <th></th>\n",
       "      <th>Monto</th>\n",
       "      <th>Tiempo_Servicio_seg</th>\n",
       "      <th>usd/seg</th>\n",
       "    </tr>\n",
       "    <tr>\n",
       "      <th>Sucursal</th>\n",
       "      <th></th>\n",
       "      <th></th>\n",
       "      <th></th>\n",
       "    </tr>\n",
       "  </thead>\n",
       "  <tbody>\n",
       "    <tr>\n",
       "      <th>62</th>\n",
       "      <td>4990026.52</td>\n",
       "      <td>2.536960e+05</td>\n",
       "      <td>19.669315</td>\n",
       "    </tr>\n",
       "    <tr>\n",
       "      <th>85</th>\n",
       "      <td>24670194.61</td>\n",
       "      <td>2.004067e+06</td>\n",
       "      <td>12.310065</td>\n",
       "    </tr>\n",
       "    <tr>\n",
       "      <th>267</th>\n",
       "      <td>6869577.52</td>\n",
       "      <td>6.079658e+05</td>\n",
       "      <td>11.299284</td>\n",
       "    </tr>\n",
       "    <tr>\n",
       "      <th>443</th>\n",
       "      <td>8710626.69</td>\n",
       "      <td>7.584385e+05</td>\n",
       "      <td>11.484948</td>\n",
       "    </tr>\n",
       "    <tr>\n",
       "      <th>586</th>\n",
       "      <td>3264172.92</td>\n",
       "      <td>1.562710e+05</td>\n",
       "      <td>20.887899</td>\n",
       "    </tr>\n",
       "  </tbody>\n",
       "</table>\n",
       "</div>"
      ],
      "text/plain": [
       "                Monto  Tiempo_Servicio_seg    usd/seg\n",
       "Sucursal                                             \n",
       "62         4990026.52         2.536960e+05  19.669315\n",
       "85        24670194.61         2.004067e+06  12.310065\n",
       "267        6869577.52         6.079658e+05  11.299284\n",
       "443        8710626.69         7.584385e+05  11.484948\n",
       "586        3264172.92         1.562710e+05  20.887899"
      ]
     },
     "execution_count": 133,
     "metadata": {},
     "output_type": "execute_result"
    }
   ],
   "source": [
    "df2 = df.groupby('Sucursal').aggregate({'Monto':np.sum,'Tiempo_Servicio_seg':np.sum})\n",
    "df2['usd/seg'] = df2.Monto/df2.Tiempo_Servicio_seg\n",
    "\n",
    "df2"
   ]
  },
  {
   "cell_type": "code",
   "execution_count": 132,
   "metadata": {},
   "outputs": [
    {
     "name": "stdout",
     "output_type": "stream",
     "text": [
      "La mejor sucursal en términos de dólares por segundo es: 586\n"
     ]
    }
   ],
   "source": [
    "mejor_sucursal = df2['usd/seg'].nlargest(1).index[0]\n",
    "print(f'La mejor sucursal en términos de dólares por segundo es: {mejor_sucursal}')"
   ]
  },
  {
   "cell_type": "code",
   "execution_count": 112,
   "metadata": {},
   "outputs": [
    {
     "data": {
      "text/plain": [
       "<AxesSubplot:xlabel='Sucursal', ylabel='Tiempo_Servicio_seg'>"
      ]
     },
     "execution_count": 112,
     "metadata": {},
     "output_type": "execute_result"
    },
    {
     "data": {
      "image/png": "[encoded data removed]",
      "text/plain": [
       "<Figure size 1800x500 with 1 Axes>"
      ]
     },
     "metadata": {},
     "output_type": "display_data"
    }
   ],
   "source": [
    "plt.figure(figsize=(18,5), dpi=100)\n",
    "sns.violinplot(data=df, x='Sucursal', y='Tiempo_Servicio_seg')"
   ]
  },
  {
   "cell_type": "markdown",
   "metadata": {},
   "source": [
    "Adicionalmente, al considerar solo los tiempos de atención, la sucursal 586 tiene un promedio menor y menos dispersión"
   ]
  }
 ],
 "metadata": {
  "interpreter": {
   "hash": "e1f923976e31ff2eb017838adca69c55900dd39b6b1a0310c8979ec2c19f5f54"
  },
  "kernelspec": {
   "display_name": "Python 3.10.0 64-bit",
   "language": "python",
   "name": "python3"
  },
  "language_info": {
   "codemirror_mode": {
    "name": "ipython",
    "version": 3
   },
   "file_extension": ".py",
   "mimetype": "text/x-python",
   "name": "python",
   "nbconvert_exporter": "python",
   "pygments_lexer": "ipython3",
   "version": "3.10.0"
  },
  "orig_nbformat": 4
 },
 "nbformat": 4,
 "nbformat_minor": 2
}
