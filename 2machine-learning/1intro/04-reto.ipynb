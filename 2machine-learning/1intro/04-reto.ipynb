{
 "cells": [
  {
   "cell_type": "code",
   "execution_count": 2,
   "metadata": {},
   "outputs": [],
   "source": [
    "import pandas as pd\n",
    "import numpy as np\n",
    "import matplotlib.pyplot as plt\n",
    "import seaborn as sns\n",
    "import re\n",
    "\n",
    "# from sklearn import preprocessing, neighbors \n",
    "# from sklearn.model_selection import cross_val_score \n",
    "# from sklearn.model_selection import train_test_split \n",
    "\n",
    "\n",
    "sns.set_style('darkgrid')\n",
    "plt.rcParams['figure.dpi'] = 120"
   ]
  },
  {
   "cell_type": "code",
   "execution_count": 7,
   "metadata": {},
   "outputs": [
    {
     "data": {
      "text/html": [
       "<div>\n",
       "<style scoped>\n",
       "    .dataframe tbody tr th:only-of-type {\n",
       "        vertical-align: middle;\n",
       "    }\n",
       "\n",
       "    .dataframe tbody tr th {\n",
       "        vertical-align: top;\n",
       "    }\n",
       "\n",
       "    .dataframe thead th {\n",
       "        text-align: right;\n",
       "    }\n",
       "</style>\n",
       "<table border=\"1\" class=\"dataframe\">\n",
       "  <thead>\n",
       "    <tr style=\"text-align: right;\">\n",
       "      <th></th>\n",
       "      <th>id</th>\n",
       "      <th>state</th>\n",
       "      <th>stop_date</th>\n",
       "      <th>county_name</th>\n",
       "      <th>county_fips</th>\n",
       "      <th>police_department</th>\n",
       "      <th>driver_gender</th>\n",
       "      <th>driver_birthdate</th>\n",
       "      <th>driver_race</th>\n",
       "      <th>violation_raw</th>\n",
       "      <th>officer_id</th>\n",
       "      <th>driver_age</th>\n",
       "      <th>violation</th>\n",
       "      <th>wk_day</th>\n",
       "      <th>y_day</th>\n",
       "    </tr>\n",
       "  </thead>\n",
       "  <tbody>\n",
       "    <tr>\n",
       "      <th>0</th>\n",
       "      <td>MS-2013-00001</td>\n",
       "      <td>EC</td>\n",
       "      <td>1/1/2013</td>\n",
       "      <td>QUITO</td>\n",
       "      <td>28067</td>\n",
       "      <td>Ecuador</td>\n",
       "      <td>male</td>\n",
       "      <td>14/6/1950</td>\n",
       "      <td>Black</td>\n",
       "      <td>Seat belt not used properly as required</td>\n",
       "      <td>J042</td>\n",
       "      <td>63.0</td>\n",
       "      <td>Seat belt</td>\n",
       "      <td>Tue</td>\n",
       "      <td>1.0</td>\n",
       "    </tr>\n",
       "    <tr>\n",
       "      <th>1</th>\n",
       "      <td>MS-2013-00002</td>\n",
       "      <td>EC</td>\n",
       "      <td>1/1/2013</td>\n",
       "      <td>ALANGASI</td>\n",
       "      <td>28075</td>\n",
       "      <td>Ecuador</td>\n",
       "      <td>male</td>\n",
       "      <td>6/4/1967</td>\n",
       "      <td>Black</td>\n",
       "      <td>Careless driving</td>\n",
       "      <td>B026</td>\n",
       "      <td>46.0</td>\n",
       "      <td>Careless driving</td>\n",
       "      <td>Tue</td>\n",
       "      <td>1.0</td>\n",
       "    </tr>\n",
       "    <tr>\n",
       "      <th>2</th>\n",
       "      <td>MS-2013-00003</td>\n",
       "      <td>EC</td>\n",
       "      <td>1/1/2013</td>\n",
       "      <td>AMAGUAŃA</td>\n",
       "      <td>28113</td>\n",
       "      <td>Ecuador</td>\n",
       "      <td>male</td>\n",
       "      <td>15/4/1974</td>\n",
       "      <td>Black</td>\n",
       "      <td>Speeding - Regulated or posted speed limit and...</td>\n",
       "      <td>M009</td>\n",
       "      <td>39.0</td>\n",
       "      <td>Speeding</td>\n",
       "      <td>Tue</td>\n",
       "      <td>1.0</td>\n",
       "    </tr>\n",
       "    <tr>\n",
       "      <th>3</th>\n",
       "      <td>MS-2013-00004</td>\n",
       "      <td>EC</td>\n",
       "      <td>1/1/2013</td>\n",
       "      <td>ATAHUALPA (HABASPAMBA)</td>\n",
       "      <td>28045</td>\n",
       "      <td>Ecuador</td>\n",
       "      <td>male</td>\n",
       "      <td>23/3/1981</td>\n",
       "      <td>White</td>\n",
       "      <td>Speeding - Regulated or posted speed limit and...</td>\n",
       "      <td>K035</td>\n",
       "      <td>32.0</td>\n",
       "      <td>Speeding</td>\n",
       "      <td>Tue</td>\n",
       "      <td>1.0</td>\n",
       "    </tr>\n",
       "    <tr>\n",
       "      <th>4</th>\n",
       "      <td>MS-2013-00005</td>\n",
       "      <td>EC</td>\n",
       "      <td>1/1/2013</td>\n",
       "      <td>CALACALI</td>\n",
       "      <td>28051</td>\n",
       "      <td>Ecuador</td>\n",
       "      <td>male</td>\n",
       "      <td>3/8/1992</td>\n",
       "      <td>White</td>\n",
       "      <td>Speeding - Regulated or posted speed limit and...</td>\n",
       "      <td>D028</td>\n",
       "      <td>20.0</td>\n",
       "      <td>Speeding</td>\n",
       "      <td>Tue</td>\n",
       "      <td>1.0</td>\n",
       "    </tr>\n",
       "  </tbody>\n",
       "</table>\n",
       "</div>"
      ],
      "text/plain": [
       "              id state stop_date              county_name  county_fips  \\\n",
       "0  MS-2013-00001    EC  1/1/2013                    QUITO        28067   \n",
       "1  MS-2013-00002    EC  1/1/2013                 ALANGASI        28075   \n",
       "2  MS-2013-00003    EC  1/1/2013                 AMAGUAŃA        28113   \n",
       "3  MS-2013-00004    EC  1/1/2013  ATAHUALPA (HABASPAMBA)         28045   \n",
       "4  MS-2013-00005    EC  1/1/2013                 CALACALI        28051   \n",
       "\n",
       "  police_department driver_gender driver_birthdate driver_race  \\\n",
       "0           Ecuador          male        14/6/1950       Black   \n",
       "1           Ecuador          male         6/4/1967       Black   \n",
       "2           Ecuador          male        15/4/1974       Black   \n",
       "3           Ecuador          male        23/3/1981       White   \n",
       "4           Ecuador          male         3/8/1992       White   \n",
       "\n",
       "                                       violation_raw officer_id  driver_age  \\\n",
       "0            Seat belt not used properly as required       J042        63.0   \n",
       "1                                   Careless driving       B026        46.0   \n",
       "2  Speeding - Regulated or posted speed limit and...       M009        39.0   \n",
       "3  Speeding - Regulated or posted speed limit and...       K035        32.0   \n",
       "4  Speeding - Regulated or posted speed limit and...       D028        20.0   \n",
       "\n",
       "          violation wk_day  y_day  \n",
       "0         Seat belt    Tue    1.0  \n",
       "1  Careless driving    Tue    1.0  \n",
       "2          Speeding    Tue    1.0  \n",
       "3          Speeding    Tue    1.0  \n",
       "4          Speeding    Tue    1.0  "
      ]
     },
     "execution_count": 7,
     "metadata": {},
     "output_type": "execute_result"
    }
   ],
   "source": [
    "df = pd.read_csv('./Multas de tránsito/MS_stops.csv', sep=';', encoding='iso8859_2')\n",
    "df.head()"
   ]
  },
  {
   "cell_type": "code",
   "execution_count": 13,
   "metadata": {},
   "outputs": [
    {
     "data": {
      "text/plain": [
       "county_name\n",
       "SAN ANTONIO              8466\n",
       "ALANGASI                 6773\n",
       "CALDERON (CARAPUNGO)     5740\n",
       "TABABELA                 5219\n",
       "SANGOLQUI                5140\n",
       "Name: id, dtype: int64"
      ]
     },
     "execution_count": 13,
     "metadata": {},
     "output_type": "execute_result"
    }
   ],
   "source": [
    "df.groupby('county_name')['id'].count().nlargest()"
   ]
  },
  {
   "cell_type": "code",
   "execution_count": 15,
   "metadata": {},
   "outputs": [
    {
     "data": {
      "text/plain": [
       "2144.621951219512"
      ]
     },
     "execution_count": 15,
     "metadata": {},
     "output_type": "execute_result"
    }
   ],
   "source": [
    "df.groupby('county_name')['id'].count().mean()\n"
   ]
  },
  {
   "cell_type": "code",
   "execution_count": 17,
   "metadata": {},
   "outputs": [
    {
     "name": "stdout",
     "output_type": "stream",
     "text": [
      "<class 'pandas.core.frame.DataFrame'>\n",
      "RangeIndex: 175859 entries, 0 to 175858\n",
      "Data columns (total 15 columns):\n",
      " #   Column             Non-Null Count   Dtype  \n",
      "---  ------             --------------   -----  \n",
      " 0   id                 175859 non-null  object \n",
      " 1   state              175859 non-null  object \n",
      " 2   stop_date          175859 non-null  object \n",
      " 3   county_name        175859 non-null  object \n",
      " 4   county_fips        175859 non-null  int64  \n",
      " 5   police_department  175859 non-null  object \n",
      " 6   driver_gender      175834 non-null  object \n",
      " 7   driver_birthdate   175762 non-null  object \n",
      " 8   driver_race        175834 non-null  object \n",
      " 9   violation_raw      175859 non-null  object \n",
      " 10  officer_id         175852 non-null  object \n",
      " 11  driver_age         175761 non-null  float64\n",
      " 12  violation          175858 non-null  object \n",
      " 13  wk_day             175858 non-null  object \n",
      " 14  y_day              175858 non-null  float64\n",
      "dtypes: float64(2), int64(1), object(12)\n",
      "memory usage: 20.1+ MB\n"
     ]
    }
   ],
   "source": [
    "df.info()"
   ]
  },
  {
   "cell_type": "code",
   "execution_count": 20,
   "metadata": {},
   "outputs": [
    {
     "data": {
      "text/plain": [
       "0         Tue\n",
       "1         Tue\n",
       "2         Tue\n",
       "3         Tue\n",
       "4         Tue\n",
       "         ... \n",
       "175854    Thu\n",
       "175855    Thu\n",
       "175856    Thu\n",
       "175857    Thu\n",
       "175858    NaN\n",
       "Name: wk_day, Length: 175859, dtype: object"
      ]
     },
     "execution_count": 20,
     "metadata": {},
     "output_type": "execute_result"
    }
   ],
   "source": [
    "df.wk_day"
   ]
  },
  {
   "cell_type": "code",
   "execution_count": 25,
   "metadata": {},
   "outputs": [
    {
     "name": "stderr",
     "output_type": "stream",
     "text": [
      "C:\\Users\\alejo\\AppData\\Local\\Temp/ipykernel_9340/571553970.py:1: FutureWarning: Series.dt.weekofyear and Series.dt.week have been deprecated.  Please use Series.dt.isocalendar().week instead.\n",
      "  df.stop_date.astype('datetime64').dt.week\n"
     ]
    },
    {
     "data": {
      "text/plain": [
       "0          1\n",
       "1          1\n",
       "2          1\n",
       "3          1\n",
       "4          1\n",
       "          ..\n",
       "175854    44\n",
       "175855    44\n",
       "175856    44\n",
       "175857    44\n",
       "175858    44\n",
       "Name: stop_date, Length: 175859, dtype: int64"
      ]
     },
     "execution_count": 25,
     "metadata": {},
     "output_type": "execute_result"
    }
   ],
   "source": [
    "df.stop_date.astype('datetime64').dt.week"
   ]
  },
  {
   "cell_type": "code",
   "execution_count": 27,
   "metadata": {},
   "outputs": [
    {
     "name": "stderr",
     "output_type": "stream",
     "text": [
      "C:\\Users\\alejo\\AppData\\Local\\Temp/ipykernel_9340/875375406.py:1: FutureWarning: Series.dt.weekofyear and Series.dt.week have been deprecated.  Please use Series.dt.isocalendar().week instead.\n",
      "  df['week'] = df.stop_date.astype('datetime64').dt.week\n"
     ]
    }
   ],
   "source": [
    "df['week'] = df.stop_date.astype('datetime64').dt.week"
   ]
  },
  {
   "cell_type": "code",
   "execution_count": 29,
   "metadata": {},
   "outputs": [],
   "source": [
    "dft = pd.crosstab(df.county_name, df.week)"
   ]
  },
  {
   "cell_type": "code",
   "execution_count": 42,
   "metadata": {},
   "outputs": [
    {
     "data": {
      "text/plain": [
       "{1: 'SAN ANTONIO',\n",
       " 2: 'ALANGASI',\n",
       " 3: 'SAN ANTONIO',\n",
       " 4: 'TABABELA',\n",
       " 5: 'SAN ANTONIO',\n",
       " 6: 'ALANGASI',\n",
       " 7: 'SAN ANTONIO',\n",
       " 8: 'SAN ANTONIO',\n",
       " 9: 'SAN ANTONIO',\n",
       " 10: 'ALANGASI',\n",
       " 11: 'SAN ANTONIO',\n",
       " 12: 'SAN ANTONIO',\n",
       " 13: 'SAN ANTONIO',\n",
       " 14: 'SAN ANTONIO',\n",
       " 15: 'SAN ANTONIO',\n",
       " 16: 'SAN ANTONIO',\n",
       " 17: 'ALANGASI',\n",
       " 18: 'SAN ANTONIO',\n",
       " 19: 'SAN ANTONIO',\n",
       " 20: 'ALANGASI',\n",
       " 21: 'SAN ANTONIO',\n",
       " 22: 'SAN ANTONIO',\n",
       " 23: 'SAN ANTONIO',\n",
       " 24: 'SAN ANTONIO',\n",
       " 25: 'SAN ANTONIO',\n",
       " 26: 'SAN ANTONIO',\n",
       " 27: 'SAN ANTONIO',\n",
       " 28: 'SAN ANTONIO',\n",
       " 29: 'SAN ANTONIO',\n",
       " 30: 'SAN ANTONIO',\n",
       " 31: 'ALANGASI',\n",
       " 32: 'ALANGASI',\n",
       " 33: 'CUMBAYA',\n",
       " 34: 'ALANGASI',\n",
       " 35: 'ALANGASI',\n",
       " 36: 'SAN ANTONIO',\n",
       " 37: 'ALANGASI',\n",
       " 38: 'SAN ANTONIO',\n",
       " 39: 'SANGOLQUI',\n",
       " 40: 'SAN ANTONIO',\n",
       " 41: 'SAN ANTONIO',\n",
       " 42: 'ALANGASI',\n",
       " 43: 'ALANGASI',\n",
       " 44: 'SAN ANTONIO',\n",
       " 45: 'SAN ANTONIO',\n",
       " 46: 'SANGOLQUI',\n",
       " 47: 'CHECA (CHILPA) ',\n",
       " 48: 'SAN ANTONIO',\n",
       " 49: 'SAN ANTONIO',\n",
       " 50: 'ALANGASI',\n",
       " 51: 'SAN ANTONIO',\n",
       " 52: 'SANGOLQUI'}"
      ]
     },
     "execution_count": 42,
     "metadata": {},
     "output_type": "execute_result"
    }
   ],
   "source": [
    "{i:dft[i].nlargest(1).index[0] for i in dft.columns}"
   ]
  },
  {
   "cell_type": "code",
   "execution_count": 47,
   "metadata": {},
   "outputs": [
    {
     "data": {
      "text/plain": [
       "Index(['id', 'state', 'stop_date', 'county_name', 'county_fips',\n",
       "       'police_department', 'driver_gender', 'driver_birthdate', 'driver_race',\n",
       "       'violation_raw', 'officer_id', 'driver_age', 'violation', 'wk_day',\n",
       "       'y_day', 'week'],\n",
       "      dtype='object')"
      ]
     },
     "execution_count": 47,
     "metadata": {},
     "output_type": "execute_result"
    }
   ],
   "source": [
    "df.columns"
   ]
  },
  {
   "cell_type": "code",
   "execution_count": 53,
   "metadata": {},
   "outputs": [
    {
     "data": {
      "image/png": "[encoded data removed]",
      "text/plain": [
       "<Figure size 720x480 with 1 Axes>"
      ]
     },
     "metadata": {},
     "output_type": "display_data"
    }
   ],
   "source": [
    "sns.histplot(data=df, x='violation', hue='driver_race', multiple=\"dodge\")\n",
    "plt.xticks(rotation=90)\n",
    "plt.show()"
   ]
  }
 ],
 "metadata": {
  "interpreter": {
   "hash": "e1f923976e31ff2eb017838adca69c55900dd39b6b1a0310c8979ec2c19f5f54"
  },
  "kernelspec": {
   "display_name": "Python 3.10.0 64-bit",
   "language": "python",
   "name": "python3"
  },
  "language_info": {
   "codemirror_mode": {
    "name": "ipython",
    "version": 3
   },
   "file_extension": ".py",
   "mimetype": "text/x-python",
   "name": "python",
   "nbconvert_exporter": "python",
   "pygments_lexer": "ipython3",
   "version": "3.10.0"
  },
  "orig_nbformat": 4
 },
 "nbformat": 4,
 "nbformat_minor": 2
}
