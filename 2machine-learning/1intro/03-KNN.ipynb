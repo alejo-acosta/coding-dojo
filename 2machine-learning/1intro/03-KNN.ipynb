{
 "cells": [
  {
   "cell_type": "markdown",
   "metadata": {},
   "source": [
    "# **Codig Dojo**: KNN\n",
    "## Creado por: Alejandro Acosta\n",
    "\n",
    "- Fecha de creación: 2022-02-13\n",
    "- Fecha de modificación: 2022-02-13\n",
    "- Descripción: KNN"
   ]
  },
  {
   "cell_type": "code",
   "execution_count": 157,
   "metadata": {},
   "outputs": [],
   "source": [
    "import pandas as pd\n",
    "import numpy as np\n",
    "import matplotlib.pyplot as plt\n",
    "import seaborn as sns\n",
    "import re\n",
    "\n",
    "from sklearn.preprocessing import StandardScaler\n",
    "from sklearn.datasets import load_iris\n",
    "from sklearn.neighbors import KNeighborsClassifier\n",
    "from sklearn.preprocessing import OrdinalEncoder\n",
    "\n",
    "from sklearn import preprocessing, neighbors \n",
    "from sklearn.model_selection import cross_val_score \n",
    "from sklearn.model_selection import train_test_split \n",
    "\n",
    "\n",
    "sns.set_style('darkgrid')\n",
    "plt.rcParams['figure.dpi'] = 120"
   ]
  },
  {
   "cell_type": "code",
   "execution_count": 158,
   "metadata": {},
   "outputs": [],
   "source": [
    "df = pd.read_csv('https://archive.ics.uci.edu/ml/machine-learning-databases/abalone/abalone.data', header=None)\n",
    "df.columns = [i.lower() for i in ['Sex','Length','Diameter','Height','Whole_weight','Shucked_weight','Viscera_weight','Shell_weight','Rings',]]"
   ]
  },
  {
   "cell_type": "code",
   "execution_count": 159,
   "metadata": {},
   "outputs": [],
   "source": [
    "df['sex'] = df['sex'].astype('category')"
   ]
  },
  {
   "cell_type": "code",
   "execution_count": 160,
   "metadata": {},
   "outputs": [
    {
     "data": {
      "text/html": [
       "<div>\n",
       "<style scoped>\n",
       "    .dataframe tbody tr th:only-of-type {\n",
       "        vertical-align: middle;\n",
       "    }\n",
       "\n",
       "    .dataframe tbody tr th {\n",
       "        vertical-align: top;\n",
       "    }\n",
       "\n",
       "    .dataframe thead th {\n",
       "        text-align: right;\n",
       "    }\n",
       "</style>\n",
       "<table border=\"1\" class=\"dataframe\">\n",
       "  <thead>\n",
       "    <tr style=\"text-align: right;\">\n",
       "      <th></th>\n",
       "      <th>sex</th>\n",
       "      <th>length</th>\n",
       "      <th>diameter</th>\n",
       "      <th>height</th>\n",
       "      <th>whole_weight</th>\n",
       "      <th>shucked_weight</th>\n",
       "      <th>viscera_weight</th>\n",
       "      <th>shell_weight</th>\n",
       "      <th>rings</th>\n",
       "      <th>sex_F</th>\n",
       "      <th>sex_I</th>\n",
       "      <th>sex_M</th>\n",
       "    </tr>\n",
       "  </thead>\n",
       "  <tbody>\n",
       "    <tr>\n",
       "      <th>0</th>\n",
       "      <td>M</td>\n",
       "      <td>0.455</td>\n",
       "      <td>0.365</td>\n",
       "      <td>0.095</td>\n",
       "      <td>0.5140</td>\n",
       "      <td>0.2245</td>\n",
       "      <td>0.1010</td>\n",
       "      <td>0.150</td>\n",
       "      <td>15</td>\n",
       "      <td>0</td>\n",
       "      <td>0</td>\n",
       "      <td>1</td>\n",
       "    </tr>\n",
       "    <tr>\n",
       "      <th>1</th>\n",
       "      <td>M</td>\n",
       "      <td>0.350</td>\n",
       "      <td>0.265</td>\n",
       "      <td>0.090</td>\n",
       "      <td>0.2255</td>\n",
       "      <td>0.0995</td>\n",
       "      <td>0.0485</td>\n",
       "      <td>0.070</td>\n",
       "      <td>7</td>\n",
       "      <td>0</td>\n",
       "      <td>0</td>\n",
       "      <td>1</td>\n",
       "    </tr>\n",
       "    <tr>\n",
       "      <th>2</th>\n",
       "      <td>F</td>\n",
       "      <td>0.530</td>\n",
       "      <td>0.420</td>\n",
       "      <td>0.135</td>\n",
       "      <td>0.6770</td>\n",
       "      <td>0.2565</td>\n",
       "      <td>0.1415</td>\n",
       "      <td>0.210</td>\n",
       "      <td>9</td>\n",
       "      <td>1</td>\n",
       "      <td>0</td>\n",
       "      <td>0</td>\n",
       "    </tr>\n",
       "    <tr>\n",
       "      <th>3</th>\n",
       "      <td>M</td>\n",
       "      <td>0.440</td>\n",
       "      <td>0.365</td>\n",
       "      <td>0.125</td>\n",
       "      <td>0.5160</td>\n",
       "      <td>0.2155</td>\n",
       "      <td>0.1140</td>\n",
       "      <td>0.155</td>\n",
       "      <td>10</td>\n",
       "      <td>0</td>\n",
       "      <td>0</td>\n",
       "      <td>1</td>\n",
       "    </tr>\n",
       "    <tr>\n",
       "      <th>4</th>\n",
       "      <td>I</td>\n",
       "      <td>0.330</td>\n",
       "      <td>0.255</td>\n",
       "      <td>0.080</td>\n",
       "      <td>0.2050</td>\n",
       "      <td>0.0895</td>\n",
       "      <td>0.0395</td>\n",
       "      <td>0.055</td>\n",
       "      <td>7</td>\n",
       "      <td>0</td>\n",
       "      <td>1</td>\n",
       "      <td>0</td>\n",
       "    </tr>\n",
       "  </tbody>\n",
       "</table>\n",
       "</div>"
      ],
      "text/plain": [
       "  sex  length  diameter  height  whole_weight  shucked_weight  viscera_weight  \\\n",
       "0   M   0.455     0.365   0.095        0.5140          0.2245          0.1010   \n",
       "1   M   0.350     0.265   0.090        0.2255          0.0995          0.0485   \n",
       "2   F   0.530     0.420   0.135        0.6770          0.2565          0.1415   \n",
       "3   M   0.440     0.365   0.125        0.5160          0.2155          0.1140   \n",
       "4   I   0.330     0.255   0.080        0.2050          0.0895          0.0395   \n",
       "\n",
       "   shell_weight  rings  sex_F  sex_I  sex_M  \n",
       "0         0.150     15      0      0      1  \n",
       "1         0.070      7      0      0      1  \n",
       "2         0.210      9      1      0      0  \n",
       "3         0.155     10      0      0      1  \n",
       "4         0.055      7      0      1      0  "
      ]
     },
     "execution_count": 160,
     "metadata": {},
     "output_type": "execute_result"
    }
   ],
   "source": [
    "df = pd.concat([df,pd.get_dummies(df['sex'], prefix='sex')], axis=1)\n",
    "df.head()"
   ]
  },
  {
   "cell_type": "code",
   "execution_count": 161,
   "metadata": {},
   "outputs": [],
   "source": [
    "# el documento indica: +1.5 gives the age in years\n",
    "df['age'] = df['rings']+1.5"
   ]
  },
  {
   "cell_type": "markdown",
   "metadata": {},
   "source": [
    "## Regresión KNN"
   ]
  },
  {
   "cell_type": "code",
   "execution_count": 162,
   "metadata": {},
   "outputs": [],
   "source": [
    "from sklearn.neighbors import KNeighborsRegressor"
   ]
  },
  {
   "cell_type": "code",
   "execution_count": 163,
   "metadata": {},
   "outputs": [
    {
     "data": {
      "text/plain": [
       "Index(['sex', 'length', 'diameter', 'height', 'whole_weight', 'shucked_weight',\n",
       "       'viscera_weight', 'shell_weight', 'rings', 'sex_F', 'sex_I', 'sex_M',\n",
       "       'age'],\n",
       "      dtype='object')"
      ]
     },
     "execution_count": 163,
     "metadata": {},
     "output_type": "execute_result"
    }
   ],
   "source": [
    "df.columns"
   ]
  },
  {
   "cell_type": "code",
   "execution_count": 164,
   "metadata": {},
   "outputs": [],
   "source": [
    "X = df[['sex_F','sex_I','sex_M','length', 'diameter', 'height', 'whole_weight',\n",
    "        'shucked_weight', 'viscera_weight', 'shell_weight']]\n",
    "y = df['age']\n",
    "X_train, X_test, y_train, y_test = train_test_split(X, y, test_size=.3, random_state=1234)\n"
   ]
  },
  {
   "cell_type": "code",
   "execution_count": 165,
   "metadata": {},
   "outputs": [],
   "source": [
    "knn = KNeighborsRegressor(n_neighbors=5).fit(X_train, y_train)"
   ]
  },
  {
   "cell_type": "code",
   "execution_count": 166,
   "metadata": {},
   "outputs": [],
   "source": [
    "from sklearn.metrics import r2_score as r2"
   ]
  },
  {
   "cell_type": "code",
   "execution_count": 167,
   "metadata": {},
   "outputs": [],
   "source": [
    "def knn_train(n=1):\n",
    "    knn = KNeighborsRegressor(n_neighbors=n).fit(X_train, y_train)\n",
    "    return r2(y_train, knn.predict(X_train))\n",
    "\n",
    "def knn_test(n=1):\n",
    "    knn = KNeighborsRegressor(n_neighbors=n).fit(X_train, y_train)\n",
    "    return r2(y_test, knn.predict(X_test))"
   ]
  },
  {
   "cell_type": "code",
   "execution_count": 168,
   "metadata": {},
   "outputs": [],
   "source": [
    "xaxis = range(1,51)\n",
    "\n",
    "yaxis1 = [knn_train(i) for i in xaxis]\n",
    "yaxis2 = [knn_test(i)  for i in xaxis]"
   ]
  },
  {
   "cell_type": "code",
   "execution_count": 169,
   "metadata": {},
   "outputs": [
    {
     "data": {
      "text/plain": [
       "<matplotlib.legend.Legend at 0x1fabc8c3940>"
      ]
     },
     "execution_count": 169,
     "metadata": {},
     "output_type": "execute_result"
    },
    {
     "data": {
      "image/png": "[encoded data removed]",
      "text/plain": [
       "<Figure size 720x480 with 1 Axes>"
      ]
     },
     "metadata": {},
     "output_type": "display_data"
    }
   ],
   "source": [
    "sns.lineplot(x=xaxis, y=yaxis1)\n",
    "sns.lineplot(x=xaxis, y=yaxis2)\n",
    "plt.legend(['train_data','test_data'])"
   ]
  },
  {
   "cell_type": "code",
   "execution_count": 170,
   "metadata": {},
   "outputs": [
    {
     "data": {
      "text/plain": [
       "array([13], dtype=int64)"
      ]
     },
     "execution_count": 170,
     "metadata": {},
     "output_type": "execute_result"
    }
   ],
   "source": [
    "# Número óptimo de vecinos cercanos\n",
    "np.where(yaxis2==np.amax(yaxis2))[0]"
   ]
  },
  {
   "cell_type": "code",
   "execution_count": 171,
   "metadata": {},
   "outputs": [],
   "source": [
    "knn = KNeighborsRegressor(n_neighbors=5).fit(X_train, y_train)"
   ]
  },
  {
   "cell_type": "markdown",
   "metadata": {},
   "source": [
    "## Clasificación KNN"
   ]
  },
  {
   "cell_type": "code",
   "execution_count": 172,
   "metadata": {},
   "outputs": [],
   "source": [
    "from sklearn.neighbors import KNeighborsClassifier"
   ]
  },
  {
   "cell_type": "code",
   "execution_count": 173,
   "metadata": {},
   "outputs": [],
   "source": [
    "X = df[['length', 'diameter', 'height', 'whole_weight',\n",
    "        'shucked_weight', 'viscera_weight', 'shell_weight', 'rings']]\n",
    "y = df['sex']\n",
    "# X_train, X_test, y_train, y_test = train_test_split(X, y, test_size=.3, random_state=1234)\n"
   ]
  },
  {
   "cell_type": "code",
   "execution_count": 179,
   "metadata": {},
   "outputs": [],
   "source": [
    "knn = KNeighborsClassifier(n_neighbors=5).fit(X, y)"
   ]
  },
  {
   "cell_type": "code",
   "execution_count": 180,
   "metadata": {},
   "outputs": [],
   "source": [
    "predictions = knn.predict(X)"
   ]
  },
  {
   "cell_type": "code",
   "execution_count": 181,
   "metadata": {},
   "outputs": [
    {
     "data": {
      "text/html": [
       "<div>\n",
       "<style scoped>\n",
       "    .dataframe tbody tr th:only-of-type {\n",
       "        vertical-align: middle;\n",
       "    }\n",
       "\n",
       "    .dataframe tbody tr th {\n",
       "        vertical-align: top;\n",
       "    }\n",
       "\n",
       "    .dataframe thead th {\n",
       "        text-align: right;\n",
       "    }\n",
       "</style>\n",
       "<table border=\"1\" class=\"dataframe\">\n",
       "  <thead>\n",
       "    <tr style=\"text-align: right;\">\n",
       "      <th>col_0</th>\n",
       "      <th>F</th>\n",
       "      <th>I</th>\n",
       "      <th>M</th>\n",
       "    </tr>\n",
       "    <tr>\n",
       "      <th>sex</th>\n",
       "      <th></th>\n",
       "      <th></th>\n",
       "      <th></th>\n",
       "    </tr>\n",
       "  </thead>\n",
       "  <tbody>\n",
       "    <tr>\n",
       "      <th>F</th>\n",
       "      <td>870</td>\n",
       "      <td>117</td>\n",
       "      <td>320</td>\n",
       "    </tr>\n",
       "    <tr>\n",
       "      <th>I</th>\n",
       "      <td>164</td>\n",
       "      <td>1094</td>\n",
       "      <td>84</td>\n",
       "    </tr>\n",
       "    <tr>\n",
       "      <th>M</th>\n",
       "      <td>396</td>\n",
       "      <td>223</td>\n",
       "      <td>909</td>\n",
       "    </tr>\n",
       "  </tbody>\n",
       "</table>\n",
       "</div>"
      ],
      "text/plain": [
       "col_0    F     I    M\n",
       "sex                  \n",
       "F      870   117  320\n",
       "I      164  1094   84\n",
       "M      396   223  909"
      ]
     },
     "execution_count": 181,
     "metadata": {},
     "output_type": "execute_result"
    }
   ],
   "source": [
    "pd.crosstab(y,predictions)"
   ]
  },
  {
   "cell_type": "markdown",
   "metadata": {},
   "source": [
    "## Con y sin división de prueba y entrenamiento"
   ]
  },
  {
   "cell_type": "code",
   "execution_count": 215,
   "metadata": {},
   "outputs": [],
   "source": [
    "X = df[['sex_F','sex_I','sex_M','length', 'diameter', 'height', 'whole_weight',\n",
    "        'shucked_weight', 'viscera_weight', 'shell_weight']]\n",
    "y = df['age']\n",
    "X_train, X_test, y_train, y_test = train_test_split(X, y, test_size=.3, random_state=1234)"
   ]
  },
  {
   "cell_type": "code",
   "execution_count": 216,
   "metadata": {},
   "outputs": [],
   "source": [
    "from linearmodels import OLS"
   ]
  },
  {
   "cell_type": "code",
   "execution_count": 217,
   "metadata": {},
   "outputs": [],
   "source": [
    "knn = KNeighborsRegressor(n_neighbors=5).fit(X_train, y_train)"
   ]
  },
  {
   "cell_type": "code",
   "execution_count": 218,
   "metadata": {},
   "outputs": [
    {
     "data": {
      "text/plain": [
       "0.6256502203068235"
      ]
     },
     "execution_count": 218,
     "metadata": {},
     "output_type": "execute_result"
    }
   ],
   "source": [
    "knn.score(X,y)"
   ]
  },
  {
   "cell_type": "code",
   "execution_count": 223,
   "metadata": {},
   "outputs": [
    {
     "name": "stderr",
     "output_type": "stream",
     "text": [
      "C:\\Users\\alejo\\AppData\\Local\\Programs\\Python\\Python310\\lib\\site-packages\\pandas\\core\\frame.py:4906: SettingWithCopyWarning: \n",
      "A value is trying to be set on a copy of a slice from a DataFrame\n",
      "\n",
      "See the caveats in the documentation: https://pandas.pydata.org/pandas-docs/stable/user_guide/indexing.html#returning-a-view-versus-a-copy\n",
      "  return super().drop(\n"
     ]
    }
   ],
   "source": [
    "X['const'] = 1\n",
    "X.drop('sex_F', axis=1,inplace=True)"
   ]
  },
  {
   "cell_type": "code",
   "execution_count": 225,
   "metadata": {},
   "outputs": [
    {
     "name": "stderr",
     "output_type": "stream",
     "text": [
      "C:\\Users\\alejo\\AppData\\Local\\Temp/ipykernel_25468/2544798208.py:1: SettingWithCopyWarning: \n",
      "A value is trying to be set on a copy of a slice from a DataFrame.\n",
      "Try using .loc[row_indexer,col_indexer] = value instead\n",
      "\n",
      "See the caveats in the documentation: https://pandas.pydata.org/pandas-docs/stable/user_guide/indexing.html#returning-a-view-versus-a-copy\n",
      "  X['const'] = 1\n"
     ]
    },
    {
     "data": {
      "text/html": [
       "<table class=\"simpletable\">\n",
       "<caption>OLS Estimation Summary</caption>\n",
       "<tr>\n",
       "  <th>Dep. Variable:</th>           <td>age</td>       <th>  R-squared:         </th> <td>0.5379</td> \n",
       "</tr>\n",
       "<tr>\n",
       "  <th>Estimator:</th>               <td>OLS</td>       <th>  Adj. R-squared:    </th> <td>0.5369</td> \n",
       "</tr>\n",
       "<tr>\n",
       "  <th>No. Observations:</th>       <td>4177</td>       <th>  F-statistic:       </th> <td>4381.1</td> \n",
       "</tr>\n",
       "<tr>\n",
       "  <th>Date:</th>             <td>Mon, Feb 14 2022</td> <th>  P-value (F-stat)   </th> <td>0.0000</td> \n",
       "</tr>\n",
       "<tr>\n",
       "  <th>Time:</th>                 <td>00:47:11</td>     <th>  Distribution:      </th> <td>chi2(9)</td>\n",
       "</tr>\n",
       "<tr>\n",
       "  <th>Cov. Estimator:</th>        <td>robust</td>      <th>                     </th>    <td></td>    \n",
       "</tr>\n",
       "<tr>\n",
       "  <th></th>                          <td></td>         <th>                     </th>    <td></td>    \n",
       "</tr>\n",
       "</table>\n",
       "<table class=\"simpletable\">\n",
       "<caption>Parameter Estimates</caption>\n",
       "<tr>\n",
       "         <td></td>        <th>Parameter</th> <th>Std. Err.</th> <th>T-stat</th>  <th>P-value</th> <th>Lower CI</th> <th>Upper CI</th>\n",
       "</tr>\n",
       "<tr>\n",
       "  <th>sex_I</th>           <td>-0.8249</td>   <td>0.1041</td>   <td>-7.9212</td> <td>0.0000</td>   <td>-1.0290</td>  <td>-0.6208</td>\n",
       "</tr>\n",
       "<tr>\n",
       "  <th>sex_M</th>           <td>0.0577</td>    <td>0.0913</td>   <td>0.6319</td>  <td>0.5274</td>   <td>-0.1213</td>  <td>0.2367</td> \n",
       "</tr>\n",
       "<tr>\n",
       "  <th>length</th>          <td>-0.4583</td>   <td>1.9691</td>   <td>-0.2328</td> <td>0.8159</td>   <td>-4.3178</td>  <td>3.4011</td> \n",
       "</tr>\n",
       "<tr>\n",
       "  <th>diameter</th>        <td>11.075</td>    <td>2.5176</td>   <td>4.3991</td>  <td>0.0000</td>   <td>6.1407</td>   <td>16.009</td> \n",
       "</tr>\n",
       "<tr>\n",
       "  <th>height</th>          <td>10.762</td>    <td>5.3384</td>   <td>2.0159</td>  <td>0.0438</td>   <td>0.2985</td>   <td>21.225</td> \n",
       "</tr>\n",
       "<tr>\n",
       "  <th>whole_weight</th>    <td>8.9754</td>    <td>1.1886</td>   <td>7.5514</td>  <td>0.0000</td>   <td>6.6459</td>   <td>11.305</td> \n",
       "</tr>\n",
       "<tr>\n",
       "  <th>shucked_weight</th>  <td>-19.787</td>   <td>1.3766</td>   <td>-14.374</td> <td>0.0000</td>   <td>-22.485</td>  <td>-17.089</td>\n",
       "</tr>\n",
       "<tr>\n",
       "  <th>viscera_weight</th>  <td>-10.582</td>   <td>1.7323</td>   <td>-6.1087</td> <td>0.0000</td>   <td>-13.977</td>  <td>-7.1867</td>\n",
       "</tr>\n",
       "<tr>\n",
       "  <th>shell_weight</th>    <td>8.7418</td>    <td>1.7562</td>   <td>4.9776</td>  <td>0.0000</td>   <td>5.2996</td>   <td>12.184</td> \n",
       "</tr>\n",
       "<tr>\n",
       "  <th>const</th>           <td>5.3946</td>    <td>0.2914</td>   <td>18.512</td>  <td>0.0000</td>   <td>4.8235</td>   <td>5.9658</td> \n",
       "</tr>\n",
       "</table><br/>id: 0x1fabf19e320"
      ],
      "text/plain": [
       "                            OLS Estimation Summary                            \n",
       "==============================================================================\n",
       "Dep. Variable:                    age   R-squared:                      0.5379\n",
       "Estimator:                        OLS   Adj. R-squared:                 0.5369\n",
       "No. Observations:                4177   F-statistic:                    4381.1\n",
       "Date:                Mon, Feb 14 2022   P-value (F-stat)                0.0000\n",
       "Time:                        00:47:11   Distribution:                  chi2(9)\n",
       "Cov. Estimator:                robust                                         \n",
       "                                                                              \n",
       "                               Parameter Estimates                                \n",
       "==================================================================================\n",
       "                Parameter  Std. Err.     T-stat    P-value    Lower CI    Upper CI\n",
       "----------------------------------------------------------------------------------\n",
       "sex_I             -0.8249     0.1041    -7.9212     0.0000     -1.0290     -0.6208\n",
       "sex_M              0.0577     0.0913     0.6319     0.5274     -0.1213      0.2367\n",
       "length            -0.4583     1.9691    -0.2328     0.8159     -4.3178      3.4011\n",
       "diameter           11.075     2.5176     4.3991     0.0000      6.1407      16.009\n",
       "height             10.762     5.3384     2.0159     0.0438      0.2985      21.225\n",
       "whole_weight       8.9754     1.1886     7.5514     0.0000      6.6459      11.305\n",
       "shucked_weight    -19.787     1.3766    -14.374     0.0000     -22.485     -17.089\n",
       "viscera_weight    -10.582     1.7323    -6.1087     0.0000     -13.977     -7.1867\n",
       "shell_weight       8.7418     1.7562     4.9776     0.0000      5.2996      12.184\n",
       "const              5.3946     0.2914     18.512     0.0000      4.8235      5.9658\n",
       "==================================================================================\n",
       "OLSResults, id: 0x1fabf19e320"
      ]
     },
     "execution_count": 225,
     "metadata": {},
     "output_type": "execute_result"
    }
   ],
   "source": [
    "reg = OLS(y, X).fit()\n",
    "reg"
   ]
  },
  {
   "cell_type": "markdown",
   "metadata": {},
   "source": [
    "¿Cuál de KNN o regresión lineal pareció un mejor modelo cuando no usaste la división entrenar probar?  \n",
    "KNN es mejor\n",
    "\n"
   ]
  },
  {
   "cell_type": "code",
   "execution_count": 233,
   "metadata": {},
   "outputs": [],
   "source": [
    "X = df[['sex_F','sex_I','sex_M','length', 'diameter', 'height', 'whole_weight',\n",
    "        'shucked_weight', 'viscera_weight', 'shell_weight']]\n",
    "y = df['age']\n",
    "X_train, X_test, y_train, y_test = train_test_split(X, y, test_size=.3, random_state=1234)\n",
    "\n"
   ]
  },
  {
   "cell_type": "code",
   "execution_count": 234,
   "metadata": {},
   "outputs": [
    {
     "data": {
      "text/plain": [
       "0.5182880983695688"
      ]
     },
     "execution_count": 234,
     "metadata": {},
     "output_type": "execute_result"
    }
   ],
   "source": [
    "knn = KNeighborsRegressor(n_neighbors=13).fit(X_train, y_train)\n",
    "knn.score(X_test, y_test)"
   ]
  },
  {
   "cell_type": "code",
   "execution_count": 235,
   "metadata": {},
   "outputs": [],
   "source": [
    "X_train['const'] = 1\n",
    "X_train.drop('sex_F', axis=1,inplace=True)\n"
   ]
  },
  {
   "cell_type": "code",
   "execution_count": 249,
   "metadata": {},
   "outputs": [
    {
     "data": {
      "text/html": [
       "<table class=\"simpletable\">\n",
       "<caption>OLS Estimation Summary</caption>\n",
       "<tr>\n",
       "  <th>Dep. Variable:</th>           <td>age</td>       <th>  R-squared:         </th> <td>0.5417</td> \n",
       "</tr>\n",
       "<tr>\n",
       "  <th>Estimator:</th>               <td>OLS</td>       <th>  Adj. R-squared:    </th> <td>0.5403</td> \n",
       "</tr>\n",
       "<tr>\n",
       "  <th>No. Observations:</th>       <td>2923</td>       <th>  F-statistic:       </th> <td>2991.6</td> \n",
       "</tr>\n",
       "<tr>\n",
       "  <th>Date:</th>             <td>Mon, Feb 14 2022</td> <th>  P-value (F-stat)   </th> <td>0.0000</td> \n",
       "</tr>\n",
       "<tr>\n",
       "  <th>Time:</th>                 <td>00:54:48</td>     <th>  Distribution:      </th> <td>chi2(9)</td>\n",
       "</tr>\n",
       "<tr>\n",
       "  <th>Cov. Estimator:</th>        <td>robust</td>      <th>                     </th>    <td></td>    \n",
       "</tr>\n",
       "<tr>\n",
       "  <th></th>                          <td></td>         <th>                     </th>    <td></td>    \n",
       "</tr>\n",
       "</table>\n",
       "<table class=\"simpletable\">\n",
       "<caption>Parameter Estimates</caption>\n",
       "<tr>\n",
       "         <td></td>        <th>Parameter</th> <th>Std. Err.</th> <th>T-stat</th>  <th>P-value</th> <th>Lower CI</th> <th>Upper CI</th>\n",
       "</tr>\n",
       "<tr>\n",
       "  <th>sex_I</th>           <td>-0.8618</td>   <td>0.1243</td>   <td>-6.9321</td> <td>0.0000</td>   <td>-1.1054</td>  <td>-0.6181</td>\n",
       "</tr>\n",
       "<tr>\n",
       "  <th>sex_M</th>           <td>0.0231</td>    <td>0.1091</td>   <td>0.2116</td>  <td>0.8324</td>   <td>-0.1908</td>  <td>0.2370</td> \n",
       "</tr>\n",
       "<tr>\n",
       "  <th>length</th>          <td>-2.7964</td>   <td>2.4506</td>   <td>-1.1411</td> <td>0.2538</td>   <td>-7.5996</td>  <td>2.0067</td> \n",
       "</tr>\n",
       "<tr>\n",
       "  <th>diameter</th>        <td>13.872</td>    <td>3.0827</td>   <td>4.5001</td>  <td>0.0000</td>   <td>7.8304</td>   <td>19.914</td> \n",
       "</tr>\n",
       "<tr>\n",
       "  <th>height</th>          <td>9.3679</td>    <td>5.4246</td>   <td>1.7269</td>  <td>0.0842</td>   <td>-1.2641</td>  <td>20.000</td> \n",
       "</tr>\n",
       "<tr>\n",
       "  <th>whole_weight</th>    <td>7.4752</td>    <td>1.3689</td>   <td>5.4609</td>  <td>0.0000</td>   <td>4.7923</td>   <td>10.158</td> \n",
       "</tr>\n",
       "<tr>\n",
       "  <th>shucked_weight</th>  <td>-17.793</td>   <td>1.5485</td>   <td>-11.490</td> <td>0.0000</td>   <td>-20.828</td>  <td>-14.758</td>\n",
       "</tr>\n",
       "<tr>\n",
       "  <th>viscera_weight</th>  <td>-9.8843</td>   <td>1.9775</td>   <td>-4.9984</td> <td>0.0000</td>   <td>-13.760</td>  <td>-6.0085</td>\n",
       "</tr>\n",
       "<tr>\n",
       "  <th>shell_weight</th>    <td>10.797</td>    <td>2.0700</td>   <td>5.2159</td>  <td>0.0000</td>   <td>6.7397</td>   <td>14.854</td> \n",
       "</tr>\n",
       "<tr>\n",
       "  <th>const</th>           <td>5.6039</td>    <td>0.3395</td>   <td>16.508</td>  <td>0.0000</td>   <td>4.9385</td>   <td>6.2692</td> \n",
       "</tr>\n",
       "</table><br/>id: 0x1fabe01a0b0"
      ],
      "text/plain": [
       "                            OLS Estimation Summary                            \n",
       "==============================================================================\n",
       "Dep. Variable:                    age   R-squared:                      0.5417\n",
       "Estimator:                        OLS   Adj. R-squared:                 0.5403\n",
       "No. Observations:                2923   F-statistic:                    2991.6\n",
       "Date:                Mon, Feb 14 2022   P-value (F-stat)                0.0000\n",
       "Time:                        00:54:48   Distribution:                  chi2(9)\n",
       "Cov. Estimator:                robust                                         \n",
       "                                                                              \n",
       "                               Parameter Estimates                                \n",
       "==================================================================================\n",
       "                Parameter  Std. Err.     T-stat    P-value    Lower CI    Upper CI\n",
       "----------------------------------------------------------------------------------\n",
       "sex_I             -0.8618     0.1243    -6.9321     0.0000     -1.1054     -0.6181\n",
       "sex_M              0.0231     0.1091     0.2116     0.8324     -0.1908      0.2370\n",
       "length            -2.7964     2.4506    -1.1411     0.2538     -7.5996      2.0067\n",
       "diameter           13.872     3.0827     4.5001     0.0000      7.8304      19.914\n",
       "height             9.3679     5.4246     1.7269     0.0842     -1.2641      20.000\n",
       "whole_weight       7.4752     1.3689     5.4609     0.0000      4.7923      10.158\n",
       "shucked_weight    -17.793     1.5485    -11.490     0.0000     -20.828     -14.758\n",
       "viscera_weight    -9.8843     1.9775    -4.9984     0.0000     -13.760     -6.0085\n",
       "shell_weight       10.797     2.0700     5.2159     0.0000      6.7397      14.854\n",
       "const              5.6039     0.3395     16.508     0.0000      4.9385      6.2692\n",
       "==================================================================================\n",
       "OLSResults, id: 0x1fabe01a0b0"
      ]
     },
     "execution_count": 249,
     "metadata": {},
     "output_type": "execute_result"
    }
   ],
   "source": [
    "reg = OLS(y_train, X_train)\n",
    "reg.fit()"
   ]
  },
  {
   "cell_type": "markdown",
   "metadata": {},
   "source": [
    "¿Cuál de KNN o regresión lineal pareció un mejor modelo cuando usaste la división entrenar probar?  \n",
    "Regresión es mejor.\n",
    "\n",
    "¿Hubo alguna ventaja en la regresión lineal en términos de la cantidad de código que tenías que escribir?  \n",
    "El código es más largo\n",
    "\n",
    "¿Hay alguna forma de mostrarle a alguien cuál de los dos modelos fue más efectivo?  \n",
    "Utilizando el R²\n",
    "\n",
    "¿Crees que podrías haber mejorado KNN para mejorar la eficacia del modelo?  \n",
    "Estandarizando los datos"
   ]
  }
 ],
 "metadata": {
  "interpreter": {
   "hash": "e1f923976e31ff2eb017838adca69c55900dd39b6b1a0310c8979ec2c19f5f54"
  },
  "kernelspec": {
   "display_name": "Python 3.10.0 64-bit",
   "language": "python",
   "name": "python3"
  },
  "language_info": {
   "codemirror_mode": {
    "name": "ipython",
    "version": 3
   },
   "file_extension": ".py",
   "mimetype": "text/x-python",
   "name": "python",
   "nbconvert_exporter": "python",
   "pygments_lexer": "ipython3",
   "version": "3.10.0"
  },
  "orig_nbformat": 4
 },
 "nbformat": 4,
 "nbformat_minor": 2
}
